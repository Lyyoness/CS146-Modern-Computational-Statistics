{
 "cells": [
  {
   "cell_type": "markdown",
   "metadata": {
    "toc": true
   },
   "source": [
    "<h1>Table of Contents<span class=\"tocSkip\"></span></h1>\n",
    "<div class=\"toc\"><ul class=\"toc-item\"><li><span><a href=\"#Assignment-Description\" data-toc-modified-id=\"Assignment-Description-1\"><span class=\"toc-item-num\">1&nbsp;&nbsp;</span>Assignment Description</a></span><ul class=\"toc-item\"><li><span><a href=\"#Questions-to-Answer\" data-toc-modified-id=\"Questions-to-Answer-1.1\"><span class=\"toc-item-num\">1.1&nbsp;&nbsp;</span>Questions to Answer</a></span></li><li><span><a href=\"#Building-a-Model\" data-toc-modified-id=\"Building-a-Model-1.2\"><span class=\"toc-item-num\">1.2&nbsp;&nbsp;</span>Building a Model</a></span></li><li><span><a href=\"#Work-Product\" data-toc-modified-id=\"Work-Product-1.3\"><span class=\"toc-item-num\">1.3&nbsp;&nbsp;</span>Work Product</a></span></li></ul></li><li><span><a href=\"#Metadata\" data-toc-modified-id=\"Metadata-2\"><span class=\"toc-item-num\">2&nbsp;&nbsp;</span>Metadata</a></span></li><li><span><a href=\"#Data-Preprocessing\" data-toc-modified-id=\"Data-Preprocessing-3\"><span class=\"toc-item-num\">3&nbsp;&nbsp;</span>Data Preprocessing</a></span><ul class=\"toc-item\"><li><span><a href=\"#Dependencies\" data-toc-modified-id=\"Dependencies-3.1\"><span class=\"toc-item-num\">3.1&nbsp;&nbsp;</span>Dependencies</a></span></li><li><span><a href=\"#Grocery-Data\" data-toc-modified-id=\"Grocery-Data-3.2\"><span class=\"toc-item-num\">3.2&nbsp;&nbsp;</span>Grocery Data</a></span></li><li><span><a href=\"#Neighborhood-Data\" data-toc-modified-id=\"Neighborhood-Data-3.3\"><span class=\"toc-item-num\">3.3&nbsp;&nbsp;</span>Neighborhood Data</a></span></li><li><span><a href=\"#Merging-the-Dataframes\" data-toc-modified-id=\"Merging-the-Dataframes-3.4\"><span class=\"toc-item-num\">3.4&nbsp;&nbsp;</span>Merging the Dataframes</a></span><ul class=\"toc-item\"><li><span><a href=\"#Neighborhoods\" data-toc-modified-id=\"Neighborhoods-3.4.1\"><span class=\"toc-item-num\">3.4.1&nbsp;&nbsp;</span>Neighborhoods</a></span></li><li><span><a href=\"#Grocery-Data\" data-toc-modified-id=\"Grocery-Data-3.4.2\"><span class=\"toc-item-num\">3.4.2&nbsp;&nbsp;</span>Grocery Data</a></span></li></ul></li><li><span><a href=\"#Normalizing-Grocery-Data\" data-toc-modified-id=\"Normalizing-Grocery-Data-3.5\"><span class=\"toc-item-num\">3.5&nbsp;&nbsp;</span>Normalizing Grocery Data</a></span></li></ul></li><li><span><a href=\"#Modelling\" data-toc-modified-id=\"Modelling-4\"><span class=\"toc-item-num\">4&nbsp;&nbsp;</span>Modelling</a></span><ul class=\"toc-item\"><li><span><a href=\"#Priors\" data-toc-modified-id=\"Priors-4.1\"><span class=\"toc-item-num\">4.1&nbsp;&nbsp;</span>Priors</a></span><ul class=\"toc-item\"><li><span><a href=\"#Cauchy-Prior\" data-toc-modified-id=\"Cauchy-Prior-4.1.1\"><span class=\"toc-item-num\">4.1.1&nbsp;&nbsp;</span>Cauchy Prior</a></span></li><li><span><a href=\"#Lognormal-Prior\" data-toc-modified-id=\"Lognormal-Prior-4.1.2\"><span class=\"toc-item-num\">4.1.2&nbsp;&nbsp;</span>Lognormal Prior</a></span></li></ul></li><li><span><a href=\"#Likelihood\" data-toc-modified-id=\"Likelihood-4.2\"><span class=\"toc-item-num\">4.2&nbsp;&nbsp;</span>Likelihood</a></span><ul class=\"toc-item\"><li><span><a href=\"#Sigma-Prior\" data-toc-modified-id=\"Sigma-Prior-4.2.1\"><span class=\"toc-item-num\">4.2.1&nbsp;&nbsp;</span>Sigma Prior</a></span></li></ul></li><li><span><a href=\"#Defining-the-Data\" data-toc-modified-id=\"Defining-the-Data-4.3\"><span class=\"toc-item-num\">4.3&nbsp;&nbsp;</span>Defining the Data</a></span></li><li><span><a href=\"#Defining-the-Model\" data-toc-modified-id=\"Defining-the-Model-4.4\"><span class=\"toc-item-num\">4.4&nbsp;&nbsp;</span>Defining the Model</a></span></li></ul></li><li><span><a href=\"#Results\" data-toc-modified-id=\"Results-5\"><span class=\"toc-item-num\">5&nbsp;&nbsp;</span>Results</a></span></li><li><span><a href=\"#Discussion\" data-toc-modified-id=\"Discussion-6\"><span class=\"toc-item-num\">6&nbsp;&nbsp;</span>Discussion</a></span><ul class=\"toc-item\"><li><span><a href=\"#Corrected-Base-Price\" data-toc-modified-id=\"Corrected-Base-Price-6.1\"><span class=\"toc-item-num\">6.1&nbsp;&nbsp;</span>Corrected Base Price</a></span></li><li><span><a href=\"#Base-Price---Incorrect\" data-toc-modified-id=\"Base-Price---Incorrect-6.2\"><span class=\"toc-item-num\">6.2&nbsp;&nbsp;</span>Base Price - Incorrect</a></span><ul class=\"toc-item\"><li><span><a href=\"#Investigating-Incorrect-Base-Price\" data-toc-modified-id=\"Investigating-Incorrect-Base-Price-6.2.1\"><span class=\"toc-item-num\">6.2.1&nbsp;&nbsp;</span>Investigating Incorrect Base Price</a></span></li></ul></li><li><span><a href=\"#Modifiers\" data-toc-modified-id=\"Modifiers-6.3\"><span class=\"toc-item-num\">6.3&nbsp;&nbsp;</span>Modifiers</a></span><ul class=\"toc-item\"><li><span><a href=\"#Store-Modifier\" data-toc-modified-id=\"Store-Modifier-6.3.1\"><span class=\"toc-item-num\">6.3.1&nbsp;&nbsp;</span>Store Modifier</a></span></li><li><span><a href=\"#Location-Modifier\" data-toc-modified-id=\"Location-Modifier-6.3.2\"><span class=\"toc-item-num\">6.3.2&nbsp;&nbsp;</span>Location Modifier</a></span></li></ul></li><li><span><a href=\"#Rental-Price-Correlation\" data-toc-modified-id=\"Rental-Price-Correlation-6.4\"><span class=\"toc-item-num\">6.4&nbsp;&nbsp;</span>Rental Price Correlation</a></span></li></ul></li></ul></div>"
   ]
  },
  {
   "cell_type": "markdown",
   "metadata": {},
   "source": [
    "# Assignment Description\n",
    "In this assignment, we model the cost of groceries in different neighborhoods of Berlin/London. Does\n",
    "the store brand affect product prices, or not? Are grocery prices and the geographical distribution of\n",
    "different grocery stores correlated with other cost-of-living measures in a city — for example, rent and\n",
    "real estate prices? "
   ]
  },
  {
   "cell_type": "markdown",
   "metadata": {},
   "source": [
    "You have each been assigned supermarkets to visit in Berlin/London. Your data gathering task is to\n",
    "collect price data from each supermarket for the products listed below. For each product, there might be\n",
    "different brands with different prices. Please record at least 3 different prices for each product. It is also\n",
    "important to record the quantity of the product so that prices can be normalized. For example, one\n",
    "brand might sell apples in 1 kg bags while another brand might sell apples in 2 kg bags.\n",
    "Gather price information on all 10 of these items.\n",
    "- Apples\n",
    "- Bananas\n",
    "- Tomatoes\n",
    "- Potatoes\n",
    "- Flour, white\n",
    "- Rice, basmati\n",
    "- Milk, full cream\n",
    "- Butter\n",
    "- Eggs\n",
    "- Chicken breasts \n",
    "\n",
    "You will use all data collected by all students to build a model and answer the questions below.\n",
    "The data are automatically collated in [this spreadsheet](https://docs.google.com/spreadsheets/d/10dvaoDs67xPEqfn3EGtuXE2wthvIlnEiAly_Amydj3g/edit#gid=183047588)."
   ]
  },
  {
   "cell_type": "markdown",
   "metadata": {},
   "source": [
    "## Questions to Answer\n",
    "- What is the basic average price for each product? You need to think carefully about how to anchor the basic price for each product since this will depend on the currency used as well as the distribution of prices.\n",
    "- How much does each of the following factors modify the basic price of the product (up or down)?\n",
    "    - Brand of the grocery store.\n",
    "    - The geographical location of the grocery store.\n",
    "- Does price variation by geographical location correlate with variation in rental prices in Berlin/London, or not?\n",
    "    - There is [a 2017 map of rental prices by U-Bahn and S-Bahn station here](https://www.immobilienscout24.de/content/dam/is24/ibw/dokumente/mietmap-berlin-2017.jpg).\n",
    "    - You can find [London rental prices here](https://www.london.gov.uk/what-we-do/housing-and-land/improving-private-rented-sector/london-rents-map). "
   ]
  },
  {
   "cell_type": "markdown",
   "metadata": {},
   "source": [
    "## Building a Model\n",
    "You are encouraged to use the model structure described below for this assignment. However, you may\n",
    "modify the model if you have ideas on how to improve it. If you do decide to modify the model, you have\n",
    "to do so in a way that still allows you to address all points in the Questions to answer section above.\n",
    "You should also motivate any changes to the model.\n",
    "\n",
    "Implement your model in PyStan, generate samples from the posterior, present your posterior results,\n",
    "and use your posteriors to answer the questions provided.\n",
    "The basic idea of the model is that each type of product (apples, bananas, etc.) has a base price, with\n",
    "multipliers depending on store brand and geographical location.\n",
    "- The base price of each product.\n",
    "    - Price is a positive real number.\n",
    "    - This is a scale parameter since it depends on the currency used — for example, something that costs 1 Euro would currently cost about 130 Japanese Yen or about 27,000 Vietnamese Dong. So we really don’t know the scale of prices a priori .\n",
    "    - Since we really don’t know the scale, use a broad prior over the base price of each product.\n",
    "    \n",
    "    \n",
    "- The multiplier for each store brand\n",
    "    - This is a scale parameter (positive real number).\n",
    "    - The prior should be centered on 1, to achieve an average multiplier of 1.\n",
    "    \n",
    "    \n",
    "- The multiplier for the geographical location (perhaps using the nearest U-Bahn/S-Bahn/Tube stop?)\n",
    "    - This is a scale parameter (positive real number).\n",
    "    - The prior should also be centered on 1.\n",
    "    \n",
    "    \n",
    "For example,\n",
    "- The base price of 1 liter of full cream milk might be 0.70 €.\n",
    "- ALDI stores might be only 0.95 times as expensive as the average store.\n",
    "- Stores in Charlottenburg might by only 0.9 times as expensive as stores in the average area.\n",
    "\n",
    "So as a result, 1 liter of full cream milk in an ALDI store in Charlottenburg should cost about 0.70 € ×\n",
    "0.95 × 0.9 = 0.5985 € with some random variation around that value."
   ]
  },
  {
   "cell_type": "markdown",
   "metadata": {},
   "source": [
    "## Work Product\n",
    "Submit a PDF report with your model description and results. You must also include a zip file with all\n",
    "code (in a Jupyter notebook) and data files needed to reproduce your results. Your instructor should be\n",
    "able to run your code and reproduce the same results you got.\n",
    "Also include the following.\n",
    "\n",
    "Metadata:\n",
    " - A photo of each grocery store from which you gathered data.\n",
    "- The date and time when you visited each store.\n",
    "\n",
    "Model:\n",
    "- The statistical model you used to compute your posterior confidence intervals.\n",
    "- Be as clear and detailed as possible about the variables in your model and what quantities they\n",
    "represent, as well as how your variables are related mathematically in your model.\n",
    "- Outline any assumptions you made and how they are incorporated into your statistical model.\n",
    "\n",
    "Results:\n",
    "- Posterior distribution on the base price for each product, store brand, and geographical location\n",
    "multipliers for each product.\n",
    "- How strong is each of the brand and location effects? Which of these has the greatest influence\n",
    "on price variation between shops?"
   ]
  },
  {
   "cell_type": "markdown",
   "metadata": {},
   "source": [
    "# Metadata\n",
    "I visited the following stores on Friday, 1st November from 12:30pm-5pm:\n",
    "    - Tesco Express, 100 East Rd, Hoxton, London\n",
    "    - Waitrose & Partners, 23-39 Handel St, Bloomsbury, London\n",
    "Images of Waitrose are included in the zip file. For the Tesco store I visited first, I forgot to take a picture, hence I included a picture of a landmark I took on the way back and some pictures of a park I found, also on my way back."
   ]
  },
  {
   "cell_type": "markdown",
   "metadata": {},
   "source": [
    "# Data Preprocessing\n",
    "Before we start on building the model, let's take a look at the data and what preprocessing steps will be necessary."
   ]
  },
  {
   "cell_type": "markdown",
   "metadata": {},
   "source": [
    "## Dependencies"
   ]
  },
  {
   "cell_type": "code",
   "execution_count": 67,
   "metadata": {
    "ExecuteTime": {
     "end_time": "2019-11-06T17:20:46.302626Z",
     "start_time": "2019-11-06T17:20:45.694257Z"
    }
   },
   "outputs": [],
   "source": [
    "import pandas as pd\n",
    "import pystan as stan\n",
    "import scipy.stats as stats\n",
    "import numpy as np\n",
    "import difflib \n",
    "import matplotlib.pyplot as plt\n",
    "from sklearn.linear_model import LinearRegression as LR"
   ]
  },
  {
   "cell_type": "markdown",
   "metadata": {
    "ExecuteTime": {
     "end_time": "2019-11-04T10:00:21.593143Z",
     "start_time": "2019-11-04T10:00:21.587365Z"
    }
   },
   "source": [
    "## Grocery Data"
   ]
  },
  {
   "cell_type": "code",
   "execution_count": 2,
   "metadata": {
    "ExecuteTime": {
     "end_time": "2019-11-06T15:15:45.351955Z",
     "start_time": "2019-11-06T15:15:45.280632Z"
    }
   },
   "outputs": [
    {
     "data": {
      "text/html": [
       "<div>\n",
       "<style scoped>\n",
       "    .dataframe tbody tr th:only-of-type {\n",
       "        vertical-align: middle;\n",
       "    }\n",
       "\n",
       "    .dataframe tbody tr th {\n",
       "        vertical-align: top;\n",
       "    }\n",
       "\n",
       "    .dataframe thead th {\n",
       "        text-align: right;\n",
       "    }\n",
       "</style>\n",
       "<table border=\"1\" class=\"dataframe\">\n",
       "  <thead>\n",
       "    <tr style=\"text-align: right;\">\n",
       "      <th></th>\n",
       "      <th>Timestamp</th>\n",
       "      <th>Email</th>\n",
       "      <th>Name</th>\n",
       "      <th>Store</th>\n",
       "      <th>Address</th>\n",
       "      <th>Apples_1_quant</th>\n",
       "      <th>Apples_1_price</th>\n",
       "      <th>Apples_2_quant</th>\n",
       "      <th>Apples_2_price</th>\n",
       "      <th>Apples_3_quant</th>\n",
       "      <th>...</th>\n",
       "      <th>Eggs_2_quant</th>\n",
       "      <th>Eggs_2_price</th>\n",
       "      <th>Eggs_3_quant</th>\n",
       "      <th>Eggs_3_price</th>\n",
       "      <th>Chicken_1_quant</th>\n",
       "      <th>Chicken_1_price</th>\n",
       "      <th>Chicken_2_quant</th>\n",
       "      <th>Chicken_2_price</th>\n",
       "      <th>Chicken_3_quant</th>\n",
       "      <th>Chicken_3_price</th>\n",
       "    </tr>\n",
       "  </thead>\n",
       "  <tbody>\n",
       "    <tr>\n",
       "      <th>0</th>\n",
       "      <td>10/28/19 13:14</td>\n",
       "      <td>brian.swanberg@minerva.kgi.edu</td>\n",
       "      <td>Brian Swanberg</td>\n",
       "      <td>ALDI</td>\n",
       "      <td>Rummelsburger Str. 98</td>\n",
       "      <td>0.88</td>\n",
       "      <td>2.20</td>\n",
       "      <td>1.00</td>\n",
       "      <td>1.88</td>\n",
       "      <td>0.6</td>\n",
       "      <td>...</td>\n",
       "      <td>6.0</td>\n",
       "      <td>1.59</td>\n",
       "      <td>10.0</td>\n",
       "      <td>1.59</td>\n",
       "      <td>0.60</td>\n",
       "      <td>3.99</td>\n",
       "      <td>1.000</td>\n",
       "      <td>5.99</td>\n",
       "      <td>NaN</td>\n",
       "      <td>NaN</td>\n",
       "    </tr>\n",
       "    <tr>\n",
       "      <th>1</th>\n",
       "      <td>10/29/19 14:19</td>\n",
       "      <td>emma.stiefel@minerva.kgi.edu</td>\n",
       "      <td>Emma Stiefel</td>\n",
       "      <td>REWE</td>\n",
       "      <td>Karl-Marx-Straße 92-98</td>\n",
       "      <td>1.00</td>\n",
       "      <td>2.49</td>\n",
       "      <td>1.00</td>\n",
       "      <td>1.49</td>\n",
       "      <td>1.0</td>\n",
       "      <td>...</td>\n",
       "      <td>1.0</td>\n",
       "      <td>0.25</td>\n",
       "      <td>6.0</td>\n",
       "      <td>1.59</td>\n",
       "      <td>1.00</td>\n",
       "      <td>13.90</td>\n",
       "      <td>1.000</td>\n",
       "      <td>9.99</td>\n",
       "      <td>1.000</td>\n",
       "      <td>9.98</td>\n",
       "    </tr>\n",
       "    <tr>\n",
       "      <th>2</th>\n",
       "      <td>10/29/19 21:22</td>\n",
       "      <td>taha@minerva.kgi.edu</td>\n",
       "      <td>Taha</td>\n",
       "      <td>ALDI</td>\n",
       "      <td>Hermannstraße 72, 12049 Berlin, Germany</td>\n",
       "      <td>1.00</td>\n",
       "      <td>2.99</td>\n",
       "      <td>1.00</td>\n",
       "      <td>1.79</td>\n",
       "      <td>0.8</td>\n",
       "      <td>...</td>\n",
       "      <td>10.0</td>\n",
       "      <td>1.19</td>\n",
       "      <td>6.0</td>\n",
       "      <td>1.59</td>\n",
       "      <td>0.60</td>\n",
       "      <td>3.99</td>\n",
       "      <td>1.000</td>\n",
       "      <td>5.99</td>\n",
       "      <td>0.350</td>\n",
       "      <td>3.99</td>\n",
       "    </tr>\n",
       "    <tr>\n",
       "      <th>3</th>\n",
       "      <td>10/30/19 16:20</td>\n",
       "      <td>michaelchen@minerva.kgi.edu</td>\n",
       "      <td>Michael Hao Chen</td>\n",
       "      <td>Lidl</td>\n",
       "      <td>Leipziger Str. 42</td>\n",
       "      <td>1.00</td>\n",
       "      <td>1.79</td>\n",
       "      <td>0.75</td>\n",
       "      <td>1.99</td>\n",
       "      <td>0.8</td>\n",
       "      <td>...</td>\n",
       "      <td>10.0</td>\n",
       "      <td>1.69</td>\n",
       "      <td>10.0</td>\n",
       "      <td>2.65</td>\n",
       "      <td>0.60</td>\n",
       "      <td>3.99</td>\n",
       "      <td>0.400</td>\n",
       "      <td>2.79</td>\n",
       "      <td>NaN</td>\n",
       "      <td>NaN</td>\n",
       "    </tr>\n",
       "    <tr>\n",
       "      <th>4</th>\n",
       "      <td>10/30/19 16:24</td>\n",
       "      <td>michaelchen@minerva.kgi.edu</td>\n",
       "      <td>Michael Hao Chen</td>\n",
       "      <td>REWE</td>\n",
       "      <td>Landsberger Allee 68D</td>\n",
       "      <td>0.65</td>\n",
       "      <td>2.49</td>\n",
       "      <td>1.00</td>\n",
       "      <td>2.19</td>\n",
       "      <td>1.0</td>\n",
       "      <td>...</td>\n",
       "      <td>6.0</td>\n",
       "      <td>2.29</td>\n",
       "      <td>12.0</td>\n",
       "      <td>1.99</td>\n",
       "      <td>0.41</td>\n",
       "      <td>5.34</td>\n",
       "      <td>0.249</td>\n",
       "      <td>2.49</td>\n",
       "      <td>0.285</td>\n",
       "      <td>8.52</td>\n",
       "    </tr>\n",
       "  </tbody>\n",
       "</table>\n",
       "<p>5 rows × 65 columns</p>\n",
       "</div>"
      ],
      "text/plain": [
       "        Timestamp                           Email              Name Store  \\\n",
       "0  10/28/19 13:14  brian.swanberg@minerva.kgi.edu    Brian Swanberg  ALDI   \n",
       "1  10/29/19 14:19    emma.stiefel@minerva.kgi.edu      Emma Stiefel  REWE   \n",
       "2  10/29/19 21:22            taha@minerva.kgi.edu              Taha  ALDI   \n",
       "3  10/30/19 16:20     michaelchen@minerva.kgi.edu  Michael Hao Chen  Lidl   \n",
       "4  10/30/19 16:24     michaelchen@minerva.kgi.edu  Michael Hao Chen  REWE   \n",
       "\n",
       "                                   Address  Apples_1_quant  Apples_1_price  \\\n",
       "0                    Rummelsburger Str. 98            0.88            2.20   \n",
       "1                   Karl-Marx-Straße 92-98            1.00            2.49   \n",
       "2  Hermannstraße 72, 12049 Berlin, Germany            1.00            2.99   \n",
       "3                        Leipziger Str. 42            1.00            1.79   \n",
       "4                    Landsberger Allee 68D            0.65            2.49   \n",
       "\n",
       "   Apples_2_quant  Apples_2_price  Apples_3_quant  ...  Eggs_2_quant  \\\n",
       "0            1.00            1.88             0.6  ...           6.0   \n",
       "1            1.00            1.49             1.0  ...           1.0   \n",
       "2            1.00            1.79             0.8  ...          10.0   \n",
       "3            0.75            1.99             0.8  ...          10.0   \n",
       "4            1.00            2.19             1.0  ...           6.0   \n",
       "\n",
       "   Eggs_2_price  Eggs_3_quant  Eggs_3_price  Chicken_1_quant  Chicken_1_price  \\\n",
       "0          1.59          10.0          1.59             0.60             3.99   \n",
       "1          0.25           6.0          1.59             1.00            13.90   \n",
       "2          1.19           6.0          1.59             0.60             3.99   \n",
       "3          1.69          10.0          2.65             0.60             3.99   \n",
       "4          2.29          12.0          1.99             0.41             5.34   \n",
       "\n",
       "   Chicken_2_quant  Chicken_2_price  Chicken_3_quant  Chicken_3_price  \n",
       "0            1.000             5.99              NaN              NaN  \n",
       "1            1.000             9.99            1.000             9.98  \n",
       "2            1.000             5.99            0.350             3.99  \n",
       "3            0.400             2.79              NaN              NaN  \n",
       "4            0.249             2.49            0.285             8.52  \n",
       "\n",
       "[5 rows x 65 columns]"
      ]
     },
     "execution_count": 2,
     "metadata": {},
     "output_type": "execute_result"
    }
   ],
   "source": [
    "data = pd.read_csv('grocery_prices.csv', header=2, names=['Timestamp',\n",
    "                     'Email', 'Name', 'Store', 'Address', \n",
    "                     'Apples_1_quant', 'Apples_1_price',\n",
    "                     'Apples_2_quant', 'Apples_2_price',\n",
    "                     'Apples_3_quant', 'Apples_3_price',\n",
    "                     'Bananas_1_quant', 'Bananas_1_price',\n",
    "                     'Bananas_2_quant', 'Bananas_2_price',\n",
    "                     'Bananas_3_quant', 'Bananas_3_price',\n",
    "                     'Tomatoes_1_quant', 'Tomatoes_1_price',\n",
    "                     'Tomatoes_2_quant', 'Tomatoes_2_price',\n",
    "                     'Tomatoes_3_quant', 'Tomatoes_3_price',\n",
    "                     'Potatoes_1_quant', 'Potatoes_1_price',\n",
    "                     'Potatoes_2_quant', 'Potatoes_2_price',\n",
    "                     'Potatoes_3_quant', 'Potatoes_3_price',\n",
    "                     'Flour_1_quant', 'Flour_1_price',\n",
    "                     'Flour_2_quant', 'Flour_2_price',\n",
    "                     'Flour_3_quant', 'Flour_3_price',\n",
    "                     'Rice_1_quant', 'Rice_1_price',\n",
    "                     'Rice_2_quant', 'Rice_2_price',\n",
    "                     'Rice_3_quant', 'Rice_3_price', \n",
    "                     'Milk_1_quant', 'Milk_1_price',\n",
    "                     'Milk_2_quant', 'Milk_2_price',\n",
    "                     'Milk_3_quant', 'Milk_3_price',\n",
    "                     'Butter_1_quant', 'Butter_1_price',\n",
    "                     'Butter_2_quant', 'Butter_2_price',\n",
    "                     'Butter_3_quant', 'Butter_3_price',\n",
    "                     'Eggs_1_quant', 'Eggs_1_price',\n",
    "                     'Eggs_2_quant', 'Eggs_2_price',\n",
    "                     'Eggs_3_quant', 'Eggs_3_price',\n",
    "                     'Chicken_1_quant', 'Chicken_1_price',\n",
    "                     'Chicken_2_quant', 'Chicken_2_price',\n",
    "                     'Chicken_3_quant', 'Chicken_3_price'])\n",
    "\n",
    "data.head()"
   ]
  },
  {
   "cell_type": "markdown",
   "metadata": {},
   "source": [
    "I will merge the Store and Address column into a single column to match the format of the \"Supermarket\" column in the neighborhood dataframe. I am also dropping the time stamps and emails, since those are not needed for merging the dataframes. Stores from San Francisco and Seoul are discarded as well."
   ]
  },
  {
   "cell_type": "code",
   "execution_count": 3,
   "metadata": {
    "ExecuteTime": {
     "end_time": "2019-11-06T15:15:45.366463Z",
     "start_time": "2019-11-06T15:15:45.356805Z"
    }
   },
   "outputs": [
    {
     "data": {
      "text/plain": [
       "array(['ALDI', 'REWE', 'Lidl', 'Tesco Express', 'EDEKA',\n",
       "       'Waitrose & Partners', 'Safeway', 'Waitrose', 'Lotte Mart',\n",
       "       'Tesco', \"SAINSBURY'S\", 'Waitrose & Partners ', \"Sainsbury's \",\n",
       "       'Sainsbury'], dtype=object)"
      ]
     },
     "execution_count": 3,
     "metadata": {},
     "output_type": "execute_result"
    }
   ],
   "source": [
    "data[\"Store\"].unique()"
   ]
  },
  {
   "cell_type": "code",
   "execution_count": 4,
   "metadata": {
    "ExecuteTime": {
     "end_time": "2019-11-06T15:15:45.395766Z",
     "start_time": "2019-11-06T15:15:45.374564Z"
    }
   },
   "outputs": [
    {
     "data": {
      "text/plain": [
       "array(['ALDI', 'REWE', 'Lidl', 'Tesco Express', 'EDEKA',\n",
       "       'Waitrose & Partners', 'Waitrose', 'Tesco', \"SAINSBURY'S\",\n",
       "       'Waitrose & Partners ', \"Sainsbury's \", 'Sainsbury'], dtype=object)"
      ]
     },
     "execution_count": 4,
     "metadata": {},
     "output_type": "execute_result"
    }
   ],
   "source": [
    "data = data.drop(['Timestamp', 'Email'], axis=1)\n",
    "data = data.drop(data[data['Store'] == 'Lotte Mart'].index).drop(\n",
    "        data[data['Store'] == 'Safeway'].index)\n",
    "\n",
    "data.head()\n",
    "data[\"Store\"].unique()"
   ]
  },
  {
   "cell_type": "markdown",
   "metadata": {},
   "source": [
    "Looks good so far, let's run some sanity checks before we start normalizing the product prices."
   ]
  },
  {
   "cell_type": "code",
   "execution_count": 5,
   "metadata": {
    "ExecuteTime": {
     "end_time": "2019-11-06T15:15:45.416305Z",
     "start_time": "2019-11-06T15:15:45.401666Z"
    }
   },
   "outputs": [
    {
     "name": "stdout",
     "output_type": "stream",
     "text": [
      "('Name', 'Ahmed', 'Yanal')\n",
      "('Store', 'ALDI', 'Waitrose & Partners ')\n",
      "('Address', '1-23 City Rd, Shoreditch, London EC1Y 1AG', 'kreuzbergstraße 39')\n",
      "('Apples_1_quant', 0.1, 5.0)\n",
      "('Apples_1_price', 0.55, 5.22)\n",
      "('Apples_2_quant', 0.1, 3.2)\n",
      "('Apples_2_price', 0.33, 6.97)\n",
      "('Apples_3_quant', 0.1, 3.0)\n",
      "('Apples_3_price', 0.27, 5.0)\n",
      "('Bananas_1_quant', 0.12, 1.464)\n",
      "('Bananas_1_price', 0.21, 5.2)\n",
      "('Bananas_2_quant', 0.12, 2.0)\n",
      "('Bananas_2_price', 0.27, 2.99)\n",
      "('Bananas_3_quant', 0.12, 2.0)\n",
      "('Bananas_3_price', 0.29, 2.99)\n",
      "('Tomatoes_1_quant', 0.1, 2.0)\n",
      "('Tomatoes_1_price', 0.64, 12.36)\n",
      "('Tomatoes_2_quant', 0.06, 1.0)\n",
      "('Tomatoes_2_price', 0.73, 9.75)\n",
      "('Tomatoes_3_quant', 0.2, 1.0)\n",
      "('Tomatoes_3_price', 0.59, 9.86)\n",
      "('Potatoes_1_quant', 0.5, 5.0)\n",
      "('Potatoes_1_price', 0.58, 4.6)\n",
      "('Potatoes_2_quant', 1.0, 5.0)\n",
      "('Potatoes_2_price', 0.56, 4.5)\n",
      "('Potatoes_3_quant', 0.7, 5.0)\n",
      "('Potatoes_3_price', 0.56, 3.99)\n",
      "('Flour_1_quant', 0.35, 2.5)\n",
      "('Flour_1_price', 0.39, 5.5)\n",
      "('Flour_2_quant', 0.5, 1.5)\n",
      "('Flour_2_price', 0.39, 2.56)\n",
      "('Flour_3_quant', 0.1, 5.0)\n",
      "('Flour_3_price', 0.39, 3.84)\n",
      "('Rice_1_quant', 0.1, 10.0)\n",
      "('Rice_1_price', 0.49, 14.06)\n",
      "('Rice_2_quant', 0.22, 5.0)\n",
      "('Rice_2_price', 0.812, 12.78)\n",
      "('Rice_3_quant', 0.24, 10.0)\n",
      "('Rice_3_price', 0.99, 14.06)\n",
      "('Milk_1_quant', 0.1, 2.272)\n",
      "('Milk_1_price', 0.56, 2.5)\n",
      "('Milk_2_quant', 0.1, 3.408)\n",
      "('Milk_2_price', 0.42, 2.5)\n",
      "('Milk_3_quant', 0.1, 2.272)\n",
      "('Milk_3_price', 0.33, 2.29)\n",
      "('Butter_1_quant', 0.1, 1.0)\n",
      "('Butter_1_price', 0.2, 10.208)\n",
      "('Butter_2_quant', 0.0996, 1.0)\n",
      "('Butter_2_price', 0.45, 9.75)\n",
      "('Butter_3_quant', 0.1, 1.0)\n",
      "('Butter_3_price', 0.52, 9.976)\n",
      "('Eggs_1_quant', 1, 20)\n",
      "('Eggs_1_price', 0.159, 3.99)\n",
      "('Eggs_2_quant', 1.0, 10.0)\n",
      "('Eggs_2_price', 0.16, 4.39)\n",
      "('Eggs_3_quant', 1.0, 12.0)\n",
      "('Eggs_3_price', 0.154, 3.99)\n",
      "('Chicken_1_quant', 0.245, 1.0)\n",
      "('Chicken_1_price', 1.86, 29.9)\n",
      "('Chicken_2_quant', 0.1, 1.0)\n",
      "('Chicken_2_price', 1.29, 17.34)\n",
      "('Chicken_3_quant', 0.285, 1.4)\n",
      "('Chicken_3_price', 2.79, 30.0)\n"
     ]
    }
   ],
   "source": [
    "headers = list(data)\n",
    "min_max = zip(headers, data.min(axis=0), data.max(axis=0))\n",
    "\n",
    "for line in min_max:\n",
    "    print(line)"
   ]
  },
  {
   "cell_type": "markdown",
   "metadata": {
    "ExecuteTime": {
     "end_time": "2019-11-04T10:44:12.130094Z",
     "start_time": "2019-11-04T10:44:12.101675Z"
    }
   },
   "source": [
    "A couple of lines stand out:\n",
    "    - ('Bananas_1_quant', 0.12, 1.464)\n",
    "This is a suspicious maximum quantity of bananas. Assuming it has been converted from pounds, it would have been 3.22 pounds.\n",
    "    - ('Flour_2_quant', 0.5, 2.267)\n",
    "This maximum quantity of flour could have been converted from a 5 pound bag.\n",
    "    - ('Rice_2_quant', 0.22, 10.0)\n",
    "    - ('Rice_3_quant', 0.24, 10.0)\n",
    "0.22 and 0.24kg of rice make approximately 0.5 pounds, but it's an uncommon amount of rice...\n",
    "    - ('Butter_2_quant', 0.0996, 1.28)\n",
    "0.0996 does not convert well to pounds and neither does 1.28 kg. Both are rather unlikely quantities of butter to be sold at a store.\n",
    "    - ('Chicken_1_quant', 0.245, 1.9)\n",
    "    - ('Chicken_1_price', 1.86, 29.9)\n",
    "    - ('Chicken_2_quant', 0.1, 6.75)\n",
    "    - ('Chicken_2_price', 1.29, 17.34)\n",
    "    - ('Chicken_3_quant', 0.285, 1.4)\n",
    "    - ('Chicken_3_price', 2.79, 30.0)\n",
    "All of the chicken quantities seem rather strange, but they might have been sold by piece and hence the quantities are not nice round numbers. Two things to note, however: Assuming that max price and max quantity are likely to go together, 1.9kg of chicken for 29.9 Euros seems excessive, seeing as a quick google search informs me that the [upper range of prices for chicken in London](https://www.numbeo.com/food-prices/in/London) is 9£ / kg. Similarly, 6.75kg of chicken breasts is a highly unlikely quantity to be sold at a normal grocery store and it is much more likely that the person swapped price and quantity on accident."
   ]
  },
  {
   "cell_type": "markdown",
   "metadata": {
    "ExecuteTime": {
     "end_time": "2019-11-04T11:02:14.109931Z",
     "start_time": "2019-11-04T11:02:14.097302Z"
    }
   },
   "source": [
    "## Neighborhood Data\n",
    "I manually added one store's neighborhood, since it was missing from the csv file. Then all non-assigned stores can simply be dropped with dropna."
   ]
  },
  {
   "cell_type": "code",
   "execution_count": 6,
   "metadata": {
    "ExecuteTime": {
     "end_time": "2019-11-06T15:15:45.451774Z",
     "start_time": "2019-11-06T15:15:45.419731Z"
    }
   },
   "outputs": [
    {
     "name": "stdout",
     "output_type": "stream",
     "text": [
      "(131, 3)\n",
      "(27, 3)\n"
     ]
    }
   ],
   "source": [
    "berlin = pd.read_csv('Berlin_supermarkets.csv', skiprows=3, usecols =\n",
    "                    ['Student name', 'Supermarket', 'Neighborhood'])\n",
    "print(berlin.shape)\n",
    "london = pd.read_csv('London_supermarkets.csv', skiprows=3, usecols = \n",
    "                    ['Student name', 'Supermarket', 'Neighborhood'])\n",
    "print(london.shape)"
   ]
  },
  {
   "cell_type": "markdown",
   "metadata": {},
   "source": [
    "Both dataframes have stores in them that were not assigned to any students, so let's remove those. We have many more assigned stores (92) than we have actual data (65) so we need to find a way to merge the two data frames."
   ]
  },
  {
   "cell_type": "code",
   "execution_count": 7,
   "metadata": {
    "ExecuteTime": {
     "end_time": "2019-11-06T15:15:45.485426Z",
     "start_time": "2019-11-06T15:15:45.458175Z"
    }
   },
   "outputs": [
    {
     "name": "stdout",
     "output_type": "stream",
     "text": [
      "(68, 3)\n"
     ]
    },
    {
     "data": {
      "text/html": [
       "<div>\n",
       "<style scoped>\n",
       "    .dataframe tbody tr th:only-of-type {\n",
       "        vertical-align: middle;\n",
       "    }\n",
       "\n",
       "    .dataframe tbody tr th {\n",
       "        vertical-align: top;\n",
       "    }\n",
       "\n",
       "    .dataframe thead th {\n",
       "        text-align: right;\n",
       "    }\n",
       "</style>\n",
       "<table border=\"1\" class=\"dataframe\">\n",
       "  <thead>\n",
       "    <tr style=\"text-align: right;\">\n",
       "      <th></th>\n",
       "      <th>Student name</th>\n",
       "      <th>Supermarket</th>\n",
       "      <th>Neighborhood</th>\n",
       "    </tr>\n",
       "  </thead>\n",
       "  <tbody>\n",
       "    <tr>\n",
       "      <th>0</th>\n",
       "      <td>Berfin</td>\n",
       "      <td>ALDI, Eisenbahnstraße 42</td>\n",
       "      <td>Kreuzberg</td>\n",
       "    </tr>\n",
       "    <tr>\n",
       "      <th>1</th>\n",
       "      <td>Khoi</td>\n",
       "      <td>EDEKA, Annenstraße 4A</td>\n",
       "      <td>Mitte</td>\n",
       "    </tr>\n",
       "    <tr>\n",
       "      <th>2</th>\n",
       "      <td>Sanny</td>\n",
       "      <td>EDEKA, Fischerinsel 12</td>\n",
       "      <td>Mitte</td>\n",
       "    </tr>\n",
       "    <tr>\n",
       "      <th>3</th>\n",
       "      <td>Ayo</td>\n",
       "      <td>REWE, Skalitzer Str. 134</td>\n",
       "      <td>Kreuzberg</td>\n",
       "    </tr>\n",
       "    <tr>\n",
       "      <th>4</th>\n",
       "      <td>Trang</td>\n",
       "      <td>Lidl, Heinrich-Heine-Straße 30</td>\n",
       "      <td>Mitte</td>\n",
       "    </tr>\n",
       "  </tbody>\n",
       "</table>\n",
       "</div>"
      ],
      "text/plain": [
       "  Student name                     Supermarket Neighborhood\n",
       "0       Berfin        ALDI, Eisenbahnstraße 42    Kreuzberg\n",
       "1         Khoi           EDEKA, Annenstraße 4A        Mitte\n",
       "2        Sanny          EDEKA, Fischerinsel 12        Mitte\n",
       "3          Ayo        REWE, Skalitzer Str. 134    Kreuzberg\n",
       "4        Trang  Lidl, Heinrich-Heine-Straße 30        Mitte"
      ]
     },
     "execution_count": 7,
     "metadata": {},
     "output_type": "execute_result"
    }
   ],
   "source": [
    "berlin = berlin.dropna(axis=0)\n",
    "print(berlin.shape)\n",
    "berlin.head()"
   ]
  },
  {
   "cell_type": "code",
   "execution_count": 8,
   "metadata": {
    "ExecuteTime": {
     "end_time": "2019-11-06T15:15:45.523066Z",
     "start_time": "2019-11-06T15:15:45.494523Z"
    }
   },
   "outputs": [
    {
     "name": "stdout",
     "output_type": "stream",
     "text": [
      "(24, 3)\n"
     ]
    },
    {
     "data": {
      "text/html": [
       "<div>\n",
       "<style scoped>\n",
       "    .dataframe tbody tr th:only-of-type {\n",
       "        vertical-align: middle;\n",
       "    }\n",
       "\n",
       "    .dataframe tbody tr th {\n",
       "        vertical-align: top;\n",
       "    }\n",
       "\n",
       "    .dataframe thead th {\n",
       "        text-align: right;\n",
       "    }\n",
       "</style>\n",
       "<table border=\"1\" class=\"dataframe\">\n",
       "  <thead>\n",
       "    <tr style=\"text-align: right;\">\n",
       "      <th></th>\n",
       "      <th>Student name</th>\n",
       "      <th>Supermarket</th>\n",
       "      <th>Neighborhood</th>\n",
       "    </tr>\n",
       "  </thead>\n",
       "  <tbody>\n",
       "    <tr>\n",
       "      <th>0</th>\n",
       "      <td>Gelana</td>\n",
       "      <td>Tesco Express, 43-45 Farringdon Rd, Clerkenwel...</td>\n",
       "      <td>London</td>\n",
       "    </tr>\n",
       "    <tr>\n",
       "      <th>1</th>\n",
       "      <td>Sara</td>\n",
       "      <td>Tesco Express, 1 Brewhouse Yard, Farringdon, L...</td>\n",
       "      <td>London</td>\n",
       "    </tr>\n",
       "    <tr>\n",
       "      <th>2</th>\n",
       "      <td>Gera</td>\n",
       "      <td>Tesco Express, 10 Smithfield St, Farringdon, L...</td>\n",
       "      <td>London</td>\n",
       "    </tr>\n",
       "    <tr>\n",
       "      <th>3</th>\n",
       "      <td>Evan</td>\n",
       "      <td>Tesco Express, 87 Upper Clapton Rd, Cazenove, ...</td>\n",
       "      <td>London</td>\n",
       "    </tr>\n",
       "    <tr>\n",
       "      <th>4</th>\n",
       "      <td>Frances</td>\n",
       "      <td>Tesco Express, 131 Aldersgate St, Barbican, Lo...</td>\n",
       "      <td>London</td>\n",
       "    </tr>\n",
       "  </tbody>\n",
       "</table>\n",
       "</div>"
      ],
      "text/plain": [
       "  Student name                                        Supermarket Neighborhood\n",
       "0       Gelana  Tesco Express, 43-45 Farringdon Rd, Clerkenwel...       London\n",
       "1         Sara  Tesco Express, 1 Brewhouse Yard, Farringdon, L...       London\n",
       "2         Gera  Tesco Express, 10 Smithfield St, Farringdon, L...       London\n",
       "3         Evan  Tesco Express, 87 Upper Clapton Rd, Cazenove, ...       London\n",
       "4      Frances  Tesco Express, 131 Aldersgate St, Barbican, Lo...       London"
      ]
     },
     "execution_count": 8,
     "metadata": {},
     "output_type": "execute_result"
    }
   ],
   "source": [
    "london = london.dropna(axis=0)\n",
    "print(london.shape)\n",
    "london.head()"
   ]
  },
  {
   "cell_type": "markdown",
   "metadata": {},
   "source": [
    "## Merging the Dataframes\n",
    "I will be using the Supermarket columns to merge the two dataframes and hence have the matching neighborhoods to each store. To do this, I convert the supermarket columns into a standardized format."
   ]
  },
  {
   "cell_type": "markdown",
   "metadata": {},
   "source": [
    "### Neighborhoods"
   ]
  },
  {
   "cell_type": "markdown",
   "metadata": {},
   "source": [
    "The Berlin neighborhoods have the following street name format: \"Store, NameofStreet XX\", while the London stores have \"Store, XX NameofStreet\" as their format. I will extract the neighborhoods of the london stores from the address."
   ]
  },
  {
   "cell_type": "code",
   "execution_count": 9,
   "metadata": {
    "ExecuteTime": {
     "end_time": "2019-11-06T15:15:45.593604Z",
     "start_time": "2019-11-06T15:15:45.527172Z"
    }
   },
   "outputs": [
    {
     "data": {
      "text/html": [
       "<div>\n",
       "<style scoped>\n",
       "    .dataframe tbody tr th:only-of-type {\n",
       "        vertical-align: middle;\n",
       "    }\n",
       "\n",
       "    .dataframe tbody tr th {\n",
       "        vertical-align: top;\n",
       "    }\n",
       "\n",
       "    .dataframe thead th {\n",
       "        text-align: right;\n",
       "    }\n",
       "</style>\n",
       "<table border=\"1\" class=\"dataframe\">\n",
       "  <thead>\n",
       "    <tr style=\"text-align: right;\">\n",
       "      <th></th>\n",
       "      <th>Student name</th>\n",
       "      <th>Supermarket</th>\n",
       "      <th>Neighborhood</th>\n",
       "    </tr>\n",
       "  </thead>\n",
       "  <tbody>\n",
       "    <tr>\n",
       "      <th>0</th>\n",
       "      <td>Berfin</td>\n",
       "      <td>aldi, eisenbahnstraße 42</td>\n",
       "      <td>kreuzberg</td>\n",
       "    </tr>\n",
       "    <tr>\n",
       "      <th>1</th>\n",
       "      <td>Khoi</td>\n",
       "      <td>edeka, annenstraße 4a</td>\n",
       "      <td>mitte</td>\n",
       "    </tr>\n",
       "    <tr>\n",
       "      <th>2</th>\n",
       "      <td>Sanny</td>\n",
       "      <td>edeka, fischerinsel 12</td>\n",
       "      <td>mitte</td>\n",
       "    </tr>\n",
       "    <tr>\n",
       "      <th>3</th>\n",
       "      <td>Ayo</td>\n",
       "      <td>rewe, skalitzer str. 134</td>\n",
       "      <td>kreuzberg</td>\n",
       "    </tr>\n",
       "    <tr>\n",
       "      <th>4</th>\n",
       "      <td>Trang</td>\n",
       "      <td>lidl, heinrich-heine-straße 30</td>\n",
       "      <td>mitte</td>\n",
       "    </tr>\n",
       "  </tbody>\n",
       "</table>\n",
       "</div>"
      ],
      "text/plain": [
       "  Student name                     Supermarket Neighborhood\n",
       "0       Berfin        aldi, eisenbahnstraße 42    kreuzberg\n",
       "1         Khoi           edeka, annenstraße 4a        mitte\n",
       "2        Sanny          edeka, fischerinsel 12        mitte\n",
       "3          Ayo        rewe, skalitzer str. 134    kreuzberg\n",
       "4        Trang  lidl, heinrich-heine-straße 30        mitte"
      ]
     },
     "execution_count": 9,
     "metadata": {},
     "output_type": "execute_result"
    }
   ],
   "source": [
    "berlin.Supermarket = berlin.Supermarket.str.lower().str.strip()\n",
    "berlin.Neighborhood = berlin.Neighborhood.str.lower().str.strip()\n",
    "\n",
    "berlin.head()"
   ]
  },
  {
   "cell_type": "markdown",
   "metadata": {},
   "source": [
    "This below extracts us the neighborhood locations in London. Let's see if there are enough data points for each of them to sensibly model anything."
   ]
  },
  {
   "cell_type": "code",
   "execution_count": 10,
   "metadata": {
    "ExecuteTime": {
     "end_time": "2019-11-06T15:15:45.690971Z",
     "start_time": "2019-11-06T15:15:45.596879Z"
    }
   },
   "outputs": [
    {
     "name": "stdout",
     "output_type": "stream",
     "text": [
      " clerkenwell 2\n",
      " farringdon 2\n",
      " cazenove 1\n",
      " barbican 3\n",
      " islington 1\n",
      " bloomsbury 1\n",
      " fitzrovia 2\n",
      " the angel 2\n",
      " temple 1\n",
      " shoreditch 1\n",
      " hoxton 1\n",
      " barnsbury estate 1\n",
      " briton ferry 1\n",
      " elephant and castle 1\n",
      " crouch end 1\n",
      " spitalfields 1\n",
      " mayfair 1\n",
      " paddington 1\n"
     ]
    },
    {
     "data": {
      "text/html": [
       "<div>\n",
       "<style scoped>\n",
       "    .dataframe tbody tr th:only-of-type {\n",
       "        vertical-align: middle;\n",
       "    }\n",
       "\n",
       "    .dataframe tbody tr th {\n",
       "        vertical-align: top;\n",
       "    }\n",
       "\n",
       "    .dataframe thead th {\n",
       "        text-align: right;\n",
       "    }\n",
       "</style>\n",
       "<table border=\"1\" class=\"dataframe\">\n",
       "  <thead>\n",
       "    <tr style=\"text-align: right;\">\n",
       "      <th></th>\n",
       "      <th>Student name</th>\n",
       "      <th>Supermarket</th>\n",
       "      <th>Neighborhood</th>\n",
       "    </tr>\n",
       "  </thead>\n",
       "  <tbody>\n",
       "    <tr>\n",
       "      <th>0</th>\n",
       "      <td>Gelana</td>\n",
       "      <td>tesco express,  43-45 farringdon rd</td>\n",
       "      <td>clerkenwell</td>\n",
       "    </tr>\n",
       "    <tr>\n",
       "      <th>1</th>\n",
       "      <td>Sara</td>\n",
       "      <td>tesco express,  1 brewhouse yard</td>\n",
       "      <td>farringdon</td>\n",
       "    </tr>\n",
       "    <tr>\n",
       "      <th>2</th>\n",
       "      <td>Gera</td>\n",
       "      <td>tesco express,  10 smithfield st</td>\n",
       "      <td>farringdon</td>\n",
       "    </tr>\n",
       "    <tr>\n",
       "      <th>3</th>\n",
       "      <td>Evan</td>\n",
       "      <td>tesco express,  87 upper clapton rd</td>\n",
       "      <td>cazenove</td>\n",
       "    </tr>\n",
       "    <tr>\n",
       "      <th>4</th>\n",
       "      <td>Frances</td>\n",
       "      <td>tesco express,  131 aldersgate st</td>\n",
       "      <td>barbican</td>\n",
       "    </tr>\n",
       "  </tbody>\n",
       "</table>\n",
       "</div>"
      ],
      "text/plain": [
       "  Student name                          Supermarket  Neighborhood\n",
       "0       Gelana  tesco express,  43-45 farringdon rd   clerkenwell\n",
       "1         Sara     tesco express,  1 brewhouse yard    farringdon\n",
       "2         Gera     tesco express,  10 smithfield st    farringdon\n",
       "3         Evan  tesco express,  87 upper clapton rd      cazenove\n",
       "4      Frances    tesco express,  131 aldersgate st      barbican"
      ]
     },
     "execution_count": 10,
     "metadata": {},
     "output_type": "execute_result"
    }
   ],
   "source": [
    "london.Supermarket = london.Supermarket.str.lower().str.strip()\n",
    "split = london.Supermarket.str.split(',', expand=True)\n",
    "\n",
    "london.Supermarket = split[0] + \", \" + split[1]\n",
    "london.Neighborhood = split[2]\n",
    "\n",
    "for neighborhood in london.Neighborhood.unique():\n",
    "    data_count = len(london[(london['Neighborhood']== neighborhood)])\n",
    "    print(neighborhood, data_count)\n",
    "    \n",
    "london.head()"
   ]
  },
  {
   "cell_type": "markdown",
   "metadata": {},
   "source": [
    "Since there is at most 3 stores per neighborhood and most only have a single one, let's model central London as one large neighborhood instead. Then we merge them."
   ]
  },
  {
   "cell_type": "code",
   "execution_count": 11,
   "metadata": {
    "ExecuteTime": {
     "end_time": "2019-11-06T15:15:45.717466Z",
     "start_time": "2019-11-06T15:15:45.694100Z"
    }
   },
   "outputs": [
    {
     "data": {
      "text/html": [
       "<div>\n",
       "<style scoped>\n",
       "    .dataframe tbody tr th:only-of-type {\n",
       "        vertical-align: middle;\n",
       "    }\n",
       "\n",
       "    .dataframe tbody tr th {\n",
       "        vertical-align: top;\n",
       "    }\n",
       "\n",
       "    .dataframe thead th {\n",
       "        text-align: right;\n",
       "    }\n",
       "</style>\n",
       "<table border=\"1\" class=\"dataframe\">\n",
       "  <thead>\n",
       "    <tr style=\"text-align: right;\">\n",
       "      <th></th>\n",
       "      <th>Student name</th>\n",
       "      <th>Supermarket</th>\n",
       "      <th>Neighborhood</th>\n",
       "    </tr>\n",
       "  </thead>\n",
       "  <tbody>\n",
       "    <tr>\n",
       "      <th>0</th>\n",
       "      <td>Gelana</td>\n",
       "      <td>tesco express,  43-45 farringdon rd</td>\n",
       "      <td>london</td>\n",
       "    </tr>\n",
       "    <tr>\n",
       "      <th>1</th>\n",
       "      <td>Sara</td>\n",
       "      <td>tesco express,  1 brewhouse yard</td>\n",
       "      <td>london</td>\n",
       "    </tr>\n",
       "    <tr>\n",
       "      <th>2</th>\n",
       "      <td>Gera</td>\n",
       "      <td>tesco express,  10 smithfield st</td>\n",
       "      <td>london</td>\n",
       "    </tr>\n",
       "    <tr>\n",
       "      <th>3</th>\n",
       "      <td>Evan</td>\n",
       "      <td>tesco express,  87 upper clapton rd</td>\n",
       "      <td>london</td>\n",
       "    </tr>\n",
       "    <tr>\n",
       "      <th>4</th>\n",
       "      <td>Frances</td>\n",
       "      <td>tesco express,  131 aldersgate st</td>\n",
       "      <td>london</td>\n",
       "    </tr>\n",
       "  </tbody>\n",
       "</table>\n",
       "</div>"
      ],
      "text/plain": [
       "  Student name                          Supermarket Neighborhood\n",
       "0       Gelana  tesco express,  43-45 farringdon rd       london\n",
       "1         Sara     tesco express,  1 brewhouse yard       london\n",
       "2         Gera     tesco express,  10 smithfield st       london\n",
       "3         Evan  tesco express,  87 upper clapton rd       london\n",
       "4      Frances    tesco express,  131 aldersgate st       london"
      ]
     },
     "execution_count": 11,
     "metadata": {},
     "output_type": "execute_result"
    }
   ],
   "source": [
    "london.Neighborhood = 'london'\n",
    "london.head()"
   ]
  },
  {
   "cell_type": "code",
   "execution_count": 12,
   "metadata": {
    "ExecuteTime": {
     "end_time": "2019-11-06T15:15:45.730439Z",
     "start_time": "2019-11-06T15:15:45.721598Z"
    }
   },
   "outputs": [
    {
     "data": {
      "text/plain": [
       "(92, 3)"
      ]
     },
     "execution_count": 12,
     "metadata": {},
     "output_type": "execute_result"
    }
   ],
   "source": [
    "neighborhood_data = pd.concat([berlin, london])\n",
    "neighborhood_data.shape"
   ]
  },
  {
   "cell_type": "markdown",
   "metadata": {
    "ExecuteTime": {
     "end_time": "2019-11-04T12:29:30.175018Z",
     "start_time": "2019-11-04T12:29:30.172067Z"
    }
   },
   "source": [
    "### Grocery Data\n",
    "\n",
    "For simplicity, I adjusted some of the formatting in the data collection file manually, such that I could then extract the stores and their addresses here. To match the \"Supermarket\" column in the neighborhoods dataframe, I extract the addresses and stores and, after making sure each store has the correct name (i.e. all Tescos are called \"Tesco Express\") I create the Supermarket column and merge the two dataframes."
   ]
  },
  {
   "cell_type": "code",
   "execution_count": 13,
   "metadata": {
    "ExecuteTime": {
     "end_time": "2019-11-06T15:15:45.746306Z",
     "start_time": "2019-11-06T15:15:45.734608Z"
    }
   },
   "outputs": [],
   "source": [
    "data.Address = data.Address.str.lower().str.strip()\n",
    "data.Store = data.Store.str.lower().str.strip()\n",
    "\n",
    "split = data.Address.str.split(',', expand=True)\n",
    "\n",
    "data.Address = split[0]"
   ]
  },
  {
   "cell_type": "code",
   "execution_count": 14,
   "metadata": {
    "ExecuteTime": {
     "end_time": "2019-11-06T15:15:45.760513Z",
     "start_time": "2019-11-06T15:15:45.750943Z"
    }
   },
   "outputs": [
    {
     "data": {
      "text/plain": [
       "array(['aldi', 'rewe', 'lidl', 'tesco express', 'edeka',\n",
       "       'waitrose & partners', 'waitrose', 'tesco', \"sainsbury's\",\n",
       "       'sainsbury'], dtype=object)"
      ]
     },
     "execution_count": 14,
     "metadata": {},
     "output_type": "execute_result"
    }
   ],
   "source": [
    "data.Store.unique()"
   ]
  },
  {
   "cell_type": "code",
   "execution_count": 15,
   "metadata": {
    "ExecuteTime": {
     "end_time": "2019-11-06T15:15:45.776924Z",
     "start_time": "2019-11-06T15:15:45.763345Z"
    }
   },
   "outputs": [],
   "source": [
    "data.Store = data.Store.replace(['tesco', 'waitrose', 'sainsbury'],\n",
    "                    ['tesco express', 'waitrose & partners', 'sainsbury\\'s'])\n",
    "data.Store.unique()\n",
    "data[\"Supermarket\"] = data['Store'] + ', ' + data['Address']\n"
   ]
  },
  {
   "cell_type": "markdown",
   "metadata": {},
   "source": [
    "I am using the difflib.get_close_matches() function to retrieve the closest match to the store/address between the two data frames, without having to worry about making the strings match exactly.\n",
    "\n",
    "Correction: Evan went to two stores he was not assigned to. I corrected this manually."
   ]
  },
  {
   "cell_type": "code",
   "execution_count": 16,
   "metadata": {
    "ExecuteTime": {
     "end_time": "2019-11-06T15:15:46.342867Z",
     "start_time": "2019-11-06T15:15:45.784249Z"
    },
    "scrolled": false
   },
   "outputs": [
    {
     "name": "stdout",
     "output_type": "stream",
     "text": [
      "(68, 64)\n",
      "(68, 66)\n"
     ]
    },
    {
     "data": {
      "text/html": [
       "<div>\n",
       "<style scoped>\n",
       "    .dataframe tbody tr th:only-of-type {\n",
       "        vertical-align: middle;\n",
       "    }\n",
       "\n",
       "    .dataframe tbody tr th {\n",
       "        vertical-align: top;\n",
       "    }\n",
       "\n",
       "    .dataframe thead th {\n",
       "        text-align: right;\n",
       "    }\n",
       "</style>\n",
       "<table border=\"1\" class=\"dataframe\">\n",
       "  <thead>\n",
       "    <tr style=\"text-align: right;\">\n",
       "      <th></th>\n",
       "      <th>Name</th>\n",
       "      <th>Store</th>\n",
       "      <th>Address</th>\n",
       "      <th>Apples_1_quant</th>\n",
       "      <th>Apples_1_price</th>\n",
       "      <th>Apples_2_quant</th>\n",
       "      <th>Apples_2_price</th>\n",
       "      <th>Apples_3_quant</th>\n",
       "      <th>Apples_3_price</th>\n",
       "      <th>Bananas_1_quant</th>\n",
       "      <th>...</th>\n",
       "      <th>Eggs_3_price</th>\n",
       "      <th>Chicken_1_quant</th>\n",
       "      <th>Chicken_1_price</th>\n",
       "      <th>Chicken_2_quant</th>\n",
       "      <th>Chicken_2_price</th>\n",
       "      <th>Chicken_3_quant</th>\n",
       "      <th>Chicken_3_price</th>\n",
       "      <th>Supermarket</th>\n",
       "      <th>Student name</th>\n",
       "      <th>Neighborhood</th>\n",
       "    </tr>\n",
       "  </thead>\n",
       "  <tbody>\n",
       "    <tr>\n",
       "      <th>0</th>\n",
       "      <td>Berfin Karaman</td>\n",
       "      <td>aldi</td>\n",
       "      <td>eisenbahnstraße 42</td>\n",
       "      <td>0.6</td>\n",
       "      <td>1.95</td>\n",
       "      <td>2.0</td>\n",
       "      <td>2.29</td>\n",
       "      <td>1.0</td>\n",
       "      <td>1.39</td>\n",
       "      <td>1.0</td>\n",
       "      <td>...</td>\n",
       "      <td>1.59</td>\n",
       "      <td>0.35</td>\n",
       "      <td>2.99</td>\n",
       "      <td>0.6</td>\n",
       "      <td>3.99</td>\n",
       "      <td>1.00</td>\n",
       "      <td>5.99</td>\n",
       "      <td>aldi, eisenbahnstraße 42</td>\n",
       "      <td>Berfin</td>\n",
       "      <td>kreuzberg</td>\n",
       "    </tr>\n",
       "    <tr>\n",
       "      <th>1</th>\n",
       "      <td>Yanal</td>\n",
       "      <td>aldi</td>\n",
       "      <td>frankfurter allee 117</td>\n",
       "      <td>1.0</td>\n",
       "      <td>1.39</td>\n",
       "      <td>2.0</td>\n",
       "      <td>2.29</td>\n",
       "      <td>1.0</td>\n",
       "      <td>1.79</td>\n",
       "      <td>1.0</td>\n",
       "      <td>...</td>\n",
       "      <td>1.19</td>\n",
       "      <td>0.60</td>\n",
       "      <td>3.99</td>\n",
       "      <td>1.0</td>\n",
       "      <td>5.99</td>\n",
       "      <td>NaN</td>\n",
       "      <td>NaN</td>\n",
       "      <td>aldi, frankfurter allee 117</td>\n",
       "      <td>Yanal</td>\n",
       "      <td>friedrichshain</td>\n",
       "    </tr>\n",
       "    <tr>\n",
       "      <th>2</th>\n",
       "      <td>Hoang Tran</td>\n",
       "      <td>aldi</td>\n",
       "      <td>hauptstraße 36</td>\n",
       "      <td>1.0</td>\n",
       "      <td>1.25</td>\n",
       "      <td>1.0</td>\n",
       "      <td>2.72</td>\n",
       "      <td>1.0</td>\n",
       "      <td>1.79</td>\n",
       "      <td>1.0</td>\n",
       "      <td>...</td>\n",
       "      <td>1.65</td>\n",
       "      <td>1.00</td>\n",
       "      <td>6.98</td>\n",
       "      <td>1.0</td>\n",
       "      <td>7.48</td>\n",
       "      <td>1.00</td>\n",
       "      <td>7.48</td>\n",
       "      <td>aldi, hauptstraße 36</td>\n",
       "      <td>Hoang</td>\n",
       "      <td>lichtenberg</td>\n",
       "    </tr>\n",
       "    <tr>\n",
       "      <th>3</th>\n",
       "      <td>Taha</td>\n",
       "      <td>aldi</td>\n",
       "      <td>hermannstraße 72</td>\n",
       "      <td>1.0</td>\n",
       "      <td>2.99</td>\n",
       "      <td>1.0</td>\n",
       "      <td>1.79</td>\n",
       "      <td>0.8</td>\n",
       "      <td>1.89</td>\n",
       "      <td>1.0</td>\n",
       "      <td>...</td>\n",
       "      <td>1.59</td>\n",
       "      <td>0.60</td>\n",
       "      <td>3.99</td>\n",
       "      <td>1.0</td>\n",
       "      <td>5.99</td>\n",
       "      <td>0.35</td>\n",
       "      <td>3.99</td>\n",
       "      <td>aldi, hermannstraße 72</td>\n",
       "      <td>Taha</td>\n",
       "      <td>neukölln</td>\n",
       "    </tr>\n",
       "    <tr>\n",
       "      <th>4</th>\n",
       "      <td>Trang Nguyen</td>\n",
       "      <td>aldi</td>\n",
       "      <td>hoeppnerstraße 3-13</td>\n",
       "      <td>1.0</td>\n",
       "      <td>1.79</td>\n",
       "      <td>0.8</td>\n",
       "      <td>2.39</td>\n",
       "      <td>1.0</td>\n",
       "      <td>2.69</td>\n",
       "      <td>1.0</td>\n",
       "      <td>...</td>\n",
       "      <td>1.19</td>\n",
       "      <td>0.40</td>\n",
       "      <td>2.79</td>\n",
       "      <td>0.5</td>\n",
       "      <td>3.99</td>\n",
       "      <td>0.30</td>\n",
       "      <td>2.99</td>\n",
       "      <td>aldi, hoeppnerstraße 3-13</td>\n",
       "      <td>Trang</td>\n",
       "      <td>tempelhof</td>\n",
       "    </tr>\n",
       "  </tbody>\n",
       "</table>\n",
       "<p>5 rows × 66 columns</p>\n",
       "</div>"
      ],
      "text/plain": [
       "              Name Store                Address  Apples_1_quant  \\\n",
       "0  Berfin Karaman   aldi     eisenbahnstraße 42             0.6   \n",
       "1            Yanal  aldi  frankfurter allee 117             1.0   \n",
       "2       Hoang Tran  aldi         hauptstraße 36             1.0   \n",
       "3             Taha  aldi       hermannstraße 72             1.0   \n",
       "4     Trang Nguyen  aldi    hoeppnerstraße 3-13             1.0   \n",
       "\n",
       "   Apples_1_price  Apples_2_quant  Apples_2_price  Apples_3_quant  \\\n",
       "0            1.95             2.0            2.29             1.0   \n",
       "1            1.39             2.0            2.29             1.0   \n",
       "2            1.25             1.0            2.72             1.0   \n",
       "3            2.99             1.0            1.79             0.8   \n",
       "4            1.79             0.8            2.39             1.0   \n",
       "\n",
       "   Apples_3_price  Bananas_1_quant  ...  Eggs_3_price  Chicken_1_quant  \\\n",
       "0            1.39              1.0  ...          1.59             0.35   \n",
       "1            1.79              1.0  ...          1.19             0.60   \n",
       "2            1.79              1.0  ...          1.65             1.00   \n",
       "3            1.89              1.0  ...          1.59             0.60   \n",
       "4            2.69              1.0  ...          1.19             0.40   \n",
       "\n",
       "   Chicken_1_price  Chicken_2_quant  Chicken_2_price  Chicken_3_quant  \\\n",
       "0             2.99              0.6             3.99             1.00   \n",
       "1             3.99              1.0             5.99              NaN   \n",
       "2             6.98              1.0             7.48             1.00   \n",
       "3             3.99              1.0             5.99             0.35   \n",
       "4             2.79              0.5             3.99             0.30   \n",
       "\n",
       "   Chicken_3_price                  Supermarket  Student name    Neighborhood  \n",
       "0             5.99     aldi, eisenbahnstraße 42        Berfin       kreuzberg  \n",
       "1              NaN  aldi, frankfurter allee 117         Yanal  friedrichshain  \n",
       "2             7.48         aldi, hauptstraße 36         Hoang     lichtenberg  \n",
       "3             3.99       aldi, hermannstraße 72          Taha        neukölln  \n",
       "4             2.99    aldi, hoeppnerstraße 3-13         Trang       tempelhof  \n",
       "\n",
       "[5 rows x 66 columns]"
      ]
     },
     "execution_count": 16,
     "metadata": {},
     "output_type": "execute_result"
    }
   ],
   "source": [
    "print(data.shape)\n",
    "data.sort_values(by=['Supermarket'], inplace=True)\n",
    "neighborhood_data.sort_values(by=['Supermarket'], inplace=True)\n",
    "\n",
    "data['Supermarket'] = data['Supermarket'].apply(lambda x:\n",
    "                      difflib.get_close_matches(x,\n",
    "                      neighborhood_data['Supermarket'])[0])\n",
    "\n",
    "full_data = pd.merge(data, neighborhood_data, on=\"Supermarket\")\n",
    "\n",
    "print(full_data.shape)\n",
    "full_data.head()"
   ]
  },
  {
   "cell_type": "markdown",
   "metadata": {},
   "source": [
    "Testing to make sure every store has been assigned a neighborhood now and the merge was successful."
   ]
  },
  {
   "cell_type": "code",
   "execution_count": 17,
   "metadata": {
    "ExecuteTime": {
     "end_time": "2019-11-06T15:15:46.378979Z",
     "start_time": "2019-11-06T15:15:46.347098Z"
    }
   },
   "outputs": [
    {
     "data": {
      "text/html": [
       "<div>\n",
       "<style scoped>\n",
       "    .dataframe tbody tr th:only-of-type {\n",
       "        vertical-align: middle;\n",
       "    }\n",
       "\n",
       "    .dataframe tbody tr th {\n",
       "        vertical-align: top;\n",
       "    }\n",
       "\n",
       "    .dataframe thead th {\n",
       "        text-align: right;\n",
       "    }\n",
       "</style>\n",
       "<table border=\"1\" class=\"dataframe\">\n",
       "  <thead>\n",
       "    <tr style=\"text-align: right;\">\n",
       "      <th></th>\n",
       "      <th>Name</th>\n",
       "      <th>Store</th>\n",
       "      <th>Address</th>\n",
       "      <th>Apples_1_quant</th>\n",
       "      <th>Apples_1_price</th>\n",
       "      <th>Apples_2_quant</th>\n",
       "      <th>Apples_2_price</th>\n",
       "      <th>Apples_3_quant</th>\n",
       "      <th>Apples_3_price</th>\n",
       "      <th>Bananas_1_quant</th>\n",
       "      <th>...</th>\n",
       "      <th>Eggs_3_price</th>\n",
       "      <th>Chicken_1_quant</th>\n",
       "      <th>Chicken_1_price</th>\n",
       "      <th>Chicken_2_quant</th>\n",
       "      <th>Chicken_2_price</th>\n",
       "      <th>Chicken_3_quant</th>\n",
       "      <th>Chicken_3_price</th>\n",
       "      <th>Supermarket</th>\n",
       "      <th>Student name</th>\n",
       "      <th>Neighborhood</th>\n",
       "    </tr>\n",
       "  </thead>\n",
       "  <tbody>\n",
       "  </tbody>\n",
       "</table>\n",
       "<p>0 rows × 66 columns</p>\n",
       "</div>"
      ],
      "text/plain": [
       "Empty DataFrame\n",
       "Columns: [Name, Store, Address, Apples_1_quant, Apples_1_price, Apples_2_quant, Apples_2_price, Apples_3_quant, Apples_3_price, Bananas_1_quant, Bananas_1_price, Bananas_2_quant, Bananas_2_price, Bananas_3_quant, Bananas_3_price, Tomatoes_1_quant, Tomatoes_1_price, Tomatoes_2_quant, Tomatoes_2_price, Tomatoes_3_quant, Tomatoes_3_price, Potatoes_1_quant, Potatoes_1_price, Potatoes_2_quant, Potatoes_2_price, Potatoes_3_quant, Potatoes_3_price, Flour_1_quant, Flour_1_price, Flour_2_quant, Flour_2_price, Flour_3_quant, Flour_3_price, Rice_1_quant, Rice_1_price, Rice_2_quant, Rice_2_price, Rice_3_quant, Rice_3_price, Milk_1_quant, Milk_1_price, Milk_2_quant, Milk_2_price, Milk_3_quant, Milk_3_price, Butter_1_quant, Butter_1_price, Butter_2_quant, Butter_2_price, Butter_3_quant, Butter_3_price, Eggs_1_quant, Eggs_1_price, Eggs_2_quant, Eggs_2_price, Eggs_3_quant, Eggs_3_price, Chicken_1_quant, Chicken_1_price, Chicken_2_quant, Chicken_2_price, Chicken_3_quant, Chicken_3_price, Supermarket, Student name, Neighborhood]\n",
       "Index: []\n",
       "\n",
       "[0 rows x 66 columns]"
      ]
     },
     "execution_count": 17,
     "metadata": {},
     "output_type": "execute_result"
    }
   ],
   "source": [
    "full_data[full_data.Neighborhood.isna()]"
   ]
  },
  {
   "cell_type": "markdown",
   "metadata": {
    "ExecuteTime": {
     "end_time": "2019-11-05T19:45:47.459277Z",
     "start_time": "2019-11-05T19:45:47.449394Z"
    }
   },
   "source": [
    "## Normalizing Grocery Data"
   ]
  },
  {
   "cell_type": "markdown",
   "metadata": {},
   "source": [
    "As a next step, we want to normalize the prices of each product to apply to one kilogram (or a single count) of the product. For this we will divide each product price by it's corresponding count and then remove the columns we no longer need."
   ]
  },
  {
   "cell_type": "code",
   "execution_count": 145,
   "metadata": {
    "ExecuteTime": {
     "end_time": "2019-11-06T18:32:40.594984Z",
     "start_time": "2019-11-06T18:32:40.575176Z"
    }
   },
   "outputs": [
    {
     "name": "stdout",
     "output_type": "stream",
     "text": [
      "(68, 30) (68, 30)\n"
     ]
    }
   ],
   "source": [
    "quantities = full_data.loc[:, full_data.columns.str.contains('quant')]\n",
    "prices = full_data.loc[:, full_data.columns.str.contains('price')]\n",
    "\n",
    "print(quantities.shape, prices.shape)"
   ]
  },
  {
   "cell_type": "markdown",
   "metadata": {},
   "source": [
    "As expected, we have 30 columns of prices (10 products x 3 items each). Now we rename the columns to be able to use pandas \"divide\" funciton and then normalize the product prices. The item names are Item1-3 because the pandas melt function we use after cannot handle duplicate column names and will otherwise tripple our data."
   ]
  },
  {
   "cell_type": "raw",
   "metadata": {},
   "source": [
    "#incorrect item labels\n",
    "items = ['Apples1', 'Bananas1', 'Tomatoes1', 'Potatoes1',\n",
    "         'Flour1', 'Rice1', 'Milk1', 'Butter1', 'Eggs1', 'Chicken1',\n",
    "         'Apples2', 'Bananas2', 'Tomatoes2', 'Potatoes2',\n",
    "         'Flour2', 'Rice2', 'Milk2', 'Butter2', 'Eggs2', 'Chicken2',\n",
    "         'Apples3', 'Bananas3', 'Tomatoes3', 'Potatoes3',\n",
    "         'Flour3', 'Rice3', 'Milk3', 'Butter3', 'Eggs3', 'Chicken3']"
   ]
  },
  {
   "cell_type": "code",
   "execution_count": 170,
   "metadata": {
    "ExecuteTime": {
     "end_time": "2019-11-06T18:50:49.615209Z",
     "start_time": "2019-11-06T18:50:49.551686Z"
    }
   },
   "outputs": [
    {
     "data": {
      "text/html": [
       "<div>\n",
       "<style scoped>\n",
       "    .dataframe tbody tr th:only-of-type {\n",
       "        vertical-align: middle;\n",
       "    }\n",
       "\n",
       "    .dataframe tbody tr th {\n",
       "        vertical-align: top;\n",
       "    }\n",
       "\n",
       "    .dataframe thead th {\n",
       "        text-align: right;\n",
       "    }\n",
       "</style>\n",
       "<table border=\"1\" class=\"dataframe\">\n",
       "  <thead>\n",
       "    <tr style=\"text-align: right;\">\n",
       "      <th></th>\n",
       "      <th>Apples1</th>\n",
       "      <th>Apples2</th>\n",
       "      <th>Apples3</th>\n",
       "      <th>Bananas1</th>\n",
       "      <th>Bananas2</th>\n",
       "      <th>Bananas3</th>\n",
       "      <th>Tomatoes1</th>\n",
       "      <th>Tomatoes2</th>\n",
       "      <th>Tomatoes3</th>\n",
       "      <th>Potatoes1</th>\n",
       "      <th>...</th>\n",
       "      <th>Butter2</th>\n",
       "      <th>Butter3</th>\n",
       "      <th>Eggs1</th>\n",
       "      <th>Eggs2</th>\n",
       "      <th>Eggs3</th>\n",
       "      <th>Chicken1</th>\n",
       "      <th>Chicken2</th>\n",
       "      <th>Chicken3</th>\n",
       "      <th>Neighborhood</th>\n",
       "      <th>Store</th>\n",
       "    </tr>\n",
       "  </thead>\n",
       "  <tbody>\n",
       "    <tr>\n",
       "      <th>0</th>\n",
       "      <td>3.25</td>\n",
       "      <td>1.1450</td>\n",
       "      <td>1.3900</td>\n",
       "      <td>1.69</td>\n",
       "      <td>1.15</td>\n",
       "      <td>NaN</td>\n",
       "      <td>1.990</td>\n",
       "      <td>2.380000</td>\n",
       "      <td>4.58</td>\n",
       "      <td>0.580</td>\n",
       "      <td>...</td>\n",
       "      <td>5.56</td>\n",
       "      <td>9.96</td>\n",
       "      <td>0.159</td>\n",
       "      <td>0.119</td>\n",
       "      <td>0.265</td>\n",
       "      <td>8.542857</td>\n",
       "      <td>6.65</td>\n",
       "      <td>5.990000</td>\n",
       "      <td>kreuzberg</td>\n",
       "      <td>aldi</td>\n",
       "    </tr>\n",
       "    <tr>\n",
       "      <th>1</th>\n",
       "      <td>1.39</td>\n",
       "      <td>1.1450</td>\n",
       "      <td>1.7900</td>\n",
       "      <td>1.15</td>\n",
       "      <td>1.69</td>\n",
       "      <td>NaN</td>\n",
       "      <td>1.990</td>\n",
       "      <td>3.523077</td>\n",
       "      <td>4.58</td>\n",
       "      <td>0.556</td>\n",
       "      <td>...</td>\n",
       "      <td>8.76</td>\n",
       "      <td>6.36</td>\n",
       "      <td>0.265</td>\n",
       "      <td>0.169</td>\n",
       "      <td>0.119</td>\n",
       "      <td>6.650000</td>\n",
       "      <td>5.99</td>\n",
       "      <td>NaN</td>\n",
       "      <td>friedrichshain</td>\n",
       "      <td>aldi</td>\n",
       "    </tr>\n",
       "    <tr>\n",
       "      <th>2</th>\n",
       "      <td>1.25</td>\n",
       "      <td>2.7200</td>\n",
       "      <td>1.7900</td>\n",
       "      <td>1.69</td>\n",
       "      <td>1.15</td>\n",
       "      <td>1.990</td>\n",
       "      <td>2.580</td>\n",
       "      <td>3.980000</td>\n",
       "      <td>3.83</td>\n",
       "      <td>0.580</td>\n",
       "      <td>...</td>\n",
       "      <td>8.50</td>\n",
       "      <td>7.20</td>\n",
       "      <td>0.159</td>\n",
       "      <td>0.169</td>\n",
       "      <td>0.275</td>\n",
       "      <td>6.980000</td>\n",
       "      <td>7.48</td>\n",
       "      <td>7.480000</td>\n",
       "      <td>lichtenberg</td>\n",
       "      <td>aldi</td>\n",
       "    </tr>\n",
       "    <tr>\n",
       "      <th>3</th>\n",
       "      <td>2.99</td>\n",
       "      <td>1.7900</td>\n",
       "      <td>2.3625</td>\n",
       "      <td>1.15</td>\n",
       "      <td>1.69</td>\n",
       "      <td>1.495</td>\n",
       "      <td>3.580</td>\n",
       "      <td>1.990000</td>\n",
       "      <td>4.58</td>\n",
       "      <td>0.556</td>\n",
       "      <td>...</td>\n",
       "      <td>5.16</td>\n",
       "      <td>5.16</td>\n",
       "      <td>0.159</td>\n",
       "      <td>0.119</td>\n",
       "      <td>0.265</td>\n",
       "      <td>6.650000</td>\n",
       "      <td>5.99</td>\n",
       "      <td>11.400000</td>\n",
       "      <td>neukölln</td>\n",
       "      <td>aldi</td>\n",
       "    </tr>\n",
       "    <tr>\n",
       "      <th>4</th>\n",
       "      <td>1.79</td>\n",
       "      <td>2.9875</td>\n",
       "      <td>2.6900</td>\n",
       "      <td>1.15</td>\n",
       "      <td>NaN</td>\n",
       "      <td>NaN</td>\n",
       "      <td>4.475</td>\n",
       "      <td>1.990000</td>\n",
       "      <td>4.58</td>\n",
       "      <td>0.598</td>\n",
       "      <td>...</td>\n",
       "      <td>NaN</td>\n",
       "      <td>NaN</td>\n",
       "      <td>0.265</td>\n",
       "      <td>0.159</td>\n",
       "      <td>0.119</td>\n",
       "      <td>6.975000</td>\n",
       "      <td>7.98</td>\n",
       "      <td>9.966667</td>\n",
       "      <td>tempelhof</td>\n",
       "      <td>aldi</td>\n",
       "    </tr>\n",
       "  </tbody>\n",
       "</table>\n",
       "<p>5 rows × 32 columns</p>\n",
       "</div>"
      ],
      "text/plain": [
       "   Apples1  Apples2  Apples3  Bananas1  Bananas2  Bananas3  Tomatoes1  \\\n",
       "0     3.25   1.1450   1.3900      1.69      1.15       NaN      1.990   \n",
       "1     1.39   1.1450   1.7900      1.15      1.69       NaN      1.990   \n",
       "2     1.25   2.7200   1.7900      1.69      1.15     1.990      2.580   \n",
       "3     2.99   1.7900   2.3625      1.15      1.69     1.495      3.580   \n",
       "4     1.79   2.9875   2.6900      1.15       NaN       NaN      4.475   \n",
       "\n",
       "   Tomatoes2  Tomatoes3  Potatoes1  ...  Butter2  Butter3  Eggs1  Eggs2  \\\n",
       "0   2.380000       4.58      0.580  ...     5.56     9.96  0.159  0.119   \n",
       "1   3.523077       4.58      0.556  ...     8.76     6.36  0.265  0.169   \n",
       "2   3.980000       3.83      0.580  ...     8.50     7.20  0.159  0.169   \n",
       "3   1.990000       4.58      0.556  ...     5.16     5.16  0.159  0.119   \n",
       "4   1.990000       4.58      0.598  ...      NaN      NaN  0.265  0.159   \n",
       "\n",
       "   Eggs3  Chicken1  Chicken2   Chicken3    Neighborhood  Store  \n",
       "0  0.265  8.542857      6.65   5.990000       kreuzberg   aldi  \n",
       "1  0.119  6.650000      5.99        NaN  friedrichshain   aldi  \n",
       "2  0.275  6.980000      7.48   7.480000     lichtenberg   aldi  \n",
       "3  0.265  6.650000      5.99  11.400000        neukölln   aldi  \n",
       "4  0.119  6.975000      7.98   9.966667       tempelhof   aldi  \n",
       "\n",
       "[5 rows x 32 columns]"
      ]
     },
     "execution_count": 170,
     "metadata": {},
     "output_type": "execute_result"
    }
   ],
   "source": [
    "items = ['Apples1', 'Apples2', 'Apples3',\n",
    "         'Bananas1', 'Bananas2', 'Bananas3',\n",
    "         'Tomatoes1', 'Tomatoes2', 'Tomatoes3',\n",
    "         'Potatoes1', 'Potatoes2', 'Potatoes3',\n",
    "         'Flour1', 'Flour2', 'Flour3',\n",
    "         'Rice1', 'Rice2', 'Rice3',\n",
    "         'Milk1', 'Milk2', 'Milk3',\n",
    "         'Butter1', 'Butter2', 'Butter3',\n",
    "         'Eggs1', 'Eggs2', 'Eggs3',\n",
    "         'Chicken1', 'Chicken2', 'Chicken3']\n",
    "\n",
    "quantities.columns = items\n",
    "prices.columns = items\n",
    "\n",
    "normalized_prices = prices.divide(quantities, axis='columns')\n",
    "\n",
    "normalized_prices['Neighborhood'] = full_data.Neighborhood\n",
    "normalized_prices['Store'] = full_data.Store\n",
    "normalized_prices.head()"
   ]
  },
  {
   "cell_type": "code",
   "execution_count": 171,
   "metadata": {
    "ExecuteTime": {
     "end_time": "2019-11-06T18:51:00.431761Z",
     "start_time": "2019-11-06T18:51:00.378695Z"
    }
   },
   "outputs": [
    {
     "name": "stdout",
     "output_type": "stream",
     "text": [
      "(2040, 4) = 10 items x 3 samples x 68 stores\n",
      "(1826, 4) after removing NaN values\n"
     ]
    },
    {
     "data": {
      "text/html": [
       "<div>\n",
       "<style scoped>\n",
       "    .dataframe tbody tr th:only-of-type {\n",
       "        vertical-align: middle;\n",
       "    }\n",
       "\n",
       "    .dataframe tbody tr th {\n",
       "        vertical-align: top;\n",
       "    }\n",
       "\n",
       "    .dataframe thead th {\n",
       "        text-align: right;\n",
       "    }\n",
       "</style>\n",
       "<table border=\"1\" class=\"dataframe\">\n",
       "  <thead>\n",
       "    <tr style=\"text-align: right;\">\n",
       "      <th></th>\n",
       "      <th>Neighborhood</th>\n",
       "      <th>Store</th>\n",
       "      <th>Product</th>\n",
       "      <th>Price</th>\n",
       "    </tr>\n",
       "  </thead>\n",
       "  <tbody>\n",
       "    <tr>\n",
       "      <th>0</th>\n",
       "      <td>kreuzberg</td>\n",
       "      <td>aldi</td>\n",
       "      <td>Apples1</td>\n",
       "      <td>3.25</td>\n",
       "    </tr>\n",
       "    <tr>\n",
       "      <th>1</th>\n",
       "      <td>friedrichshain</td>\n",
       "      <td>aldi</td>\n",
       "      <td>Apples1</td>\n",
       "      <td>1.39</td>\n",
       "    </tr>\n",
       "    <tr>\n",
       "      <th>2</th>\n",
       "      <td>lichtenberg</td>\n",
       "      <td>aldi</td>\n",
       "      <td>Apples1</td>\n",
       "      <td>1.25</td>\n",
       "    </tr>\n",
       "    <tr>\n",
       "      <th>3</th>\n",
       "      <td>neukölln</td>\n",
       "      <td>aldi</td>\n",
       "      <td>Apples1</td>\n",
       "      <td>2.99</td>\n",
       "    </tr>\n",
       "    <tr>\n",
       "      <th>4</th>\n",
       "      <td>tempelhof</td>\n",
       "      <td>aldi</td>\n",
       "      <td>Apples1</td>\n",
       "      <td>1.79</td>\n",
       "    </tr>\n",
       "  </tbody>\n",
       "</table>\n",
       "</div>"
      ],
      "text/plain": [
       "     Neighborhood Store  Product  Price\n",
       "0       kreuzberg  aldi  Apples1   3.25\n",
       "1  friedrichshain  aldi  Apples1   1.39\n",
       "2     lichtenberg  aldi  Apples1   1.25\n",
       "3        neukölln  aldi  Apples1   2.99\n",
       "4       tempelhof  aldi  Apples1   1.79"
      ]
     },
     "execution_count": 171,
     "metadata": {},
     "output_type": "execute_result"
    }
   ],
   "source": [
    "final_data = pd.melt(normalized_prices, id_vars=['Neighborhood', 'Store'],\n",
    "                     value_vars=items,\n",
    "                     value_name = 'Price', var_name = 'Product')\n",
    "print(final_data.shape, '= 10 items x 3 samples x 68 stores')\n",
    "final_data = final_data.dropna(axis=0)\n",
    "print(final_data.shape, 'after removing NaN values')\n",
    "\n",
    "final_data.head()\n"
   ]
  },
  {
   "cell_type": "markdown",
   "metadata": {},
   "source": [
    "Since we renamed the items to item1-3, we need to convert them back to the default now. We simply strip off the number we added at the end."
   ]
  },
  {
   "cell_type": "code",
   "execution_count": 172,
   "metadata": {
    "ExecuteTime": {
     "end_time": "2019-11-06T18:51:11.443767Z",
     "start_time": "2019-11-06T18:51:11.230626Z"
    }
   },
   "outputs": [
    {
     "data": {
      "text/html": [
       "<div>\n",
       "<style scoped>\n",
       "    .dataframe tbody tr th:only-of-type {\n",
       "        vertical-align: middle;\n",
       "    }\n",
       "\n",
       "    .dataframe tbody tr th {\n",
       "        vertical-align: top;\n",
       "    }\n",
       "\n",
       "    .dataframe thead th {\n",
       "        text-align: right;\n",
       "    }\n",
       "</style>\n",
       "<table border=\"1\" class=\"dataframe\">\n",
       "  <thead>\n",
       "    <tr style=\"text-align: right;\">\n",
       "      <th></th>\n",
       "      <th>Neighborhood</th>\n",
       "      <th>Store</th>\n",
       "      <th>Product</th>\n",
       "      <th>Price</th>\n",
       "    </tr>\n",
       "  </thead>\n",
       "  <tbody>\n",
       "    <tr>\n",
       "      <th>0</th>\n",
       "      <td>kreuzberg</td>\n",
       "      <td>aldi</td>\n",
       "      <td>Apples</td>\n",
       "      <td>3.25</td>\n",
       "    </tr>\n",
       "    <tr>\n",
       "      <th>1</th>\n",
       "      <td>friedrichshain</td>\n",
       "      <td>aldi</td>\n",
       "      <td>Apples</td>\n",
       "      <td>1.39</td>\n",
       "    </tr>\n",
       "    <tr>\n",
       "      <th>2</th>\n",
       "      <td>lichtenberg</td>\n",
       "      <td>aldi</td>\n",
       "      <td>Apples</td>\n",
       "      <td>1.25</td>\n",
       "    </tr>\n",
       "    <tr>\n",
       "      <th>3</th>\n",
       "      <td>neukölln</td>\n",
       "      <td>aldi</td>\n",
       "      <td>Apples</td>\n",
       "      <td>2.99</td>\n",
       "    </tr>\n",
       "    <tr>\n",
       "      <th>4</th>\n",
       "      <td>tempelhof</td>\n",
       "      <td>aldi</td>\n",
       "      <td>Apples</td>\n",
       "      <td>1.79</td>\n",
       "    </tr>\n",
       "  </tbody>\n",
       "</table>\n",
       "</div>"
      ],
      "text/plain": [
       "     Neighborhood Store Product  Price\n",
       "0       kreuzberg  aldi  Apples   3.25\n",
       "1  friedrichshain  aldi  Apples   1.39\n",
       "2     lichtenberg  aldi  Apples   1.25\n",
       "3        neukölln  aldi  Apples   2.99\n",
       "4       tempelhof  aldi  Apples   1.79"
      ]
     },
     "execution_count": 172,
     "metadata": {},
     "output_type": "execute_result"
    }
   ],
   "source": [
    "final_data['Product'] = final_data.Product.apply(lambda x: x[:-1])\n",
    "final_data.head()"
   ]
  },
  {
   "cell_type": "markdown",
   "metadata": {},
   "source": [
    "Finally, we need to convert our stores, neighborhoods and product types to numbers so we can use them as indexes in the model later. I generate a dictionary with each columns numerical IDs stored and then use list comprehension to convert the main data frame to numbers. The IDs need to start at 1, not 0, since **Stan is 1-indexed**."
   ]
  },
  {
   "cell_type": "code",
   "execution_count": 173,
   "metadata": {
    "ExecuteTime": {
     "end_time": "2019-11-06T18:51:21.011553Z",
     "start_time": "2019-11-06T18:51:21.000708Z"
    }
   },
   "outputs": [],
   "source": [
    "def generate_ID_dict(df, column, ID_dict):\n",
    "    for ind, unique in enumerate(df[column].unique()):\n",
    "        ID_dict[column][unique] = ind + 1\n",
    "    \n",
    "    return (ID_dict)"
   ]
  },
  {
   "cell_type": "code",
   "execution_count": 174,
   "metadata": {
    "ExecuteTime": {
     "end_time": "2019-11-06T18:51:29.852825Z",
     "start_time": "2019-11-06T18:51:29.843620Z"
    }
   },
   "outputs": [
    {
     "name": "stdout",
     "output_type": "stream",
     "text": [
      "{'Neighborhood': {'kreuzberg': 1, 'friedrichshain': 2, 'lichtenberg': 3, 'neukölln': 4, 'tempelhof': 5, 'mitte': 6, 'alt-treptow': 7, 'schöneberg': 8, 'prenzlauer berg': 9, 'london': 10}, 'Store': {'aldi': 1, 'edeka': 2, 'lidl': 3, 'rewe': 4, \"sainsbury's\": 5, 'tesco express': 6, 'waitrose & partners': 7}, 'Product': {'Apples': 1, 'Bananas': 2, 'Tomatoes': 3, 'Potatoes': 4, 'Flour': 5, 'Rice': 6, 'Milk': 7, 'Butter': 8, 'Eggs': 9, 'Chicken': 10}}\n"
     ]
    }
   ],
   "source": [
    "ID_dict = {}\n",
    "\n",
    "for col in ['Neighborhood', 'Store', 'Product']:\n",
    "    ID_dict[col] = {}\n",
    "    ID_dict = generate_ID_dict(final_data, col, ID_dict)\n",
    "    \n",
    "print(ID_dict)"
   ]
  },
  {
   "cell_type": "code",
   "execution_count": 175,
   "metadata": {
    "ExecuteTime": {
     "end_time": "2019-11-06T18:51:38.736393Z",
     "start_time": "2019-11-06T18:51:38.725160Z"
    }
   },
   "outputs": [],
   "source": [
    "for col in ['Neighborhood', 'Store', 'Product']:\n",
    "    final_data[col] = [ID_dict[col][label] for label in final_data[col]] "
   ]
  },
  {
   "cell_type": "markdown",
   "metadata": {},
   "source": [
    "We finished the data preprocessing and should be ready for building the model now."
   ]
  },
  {
   "cell_type": "markdown",
   "metadata": {
    "ExecuteTime": {
     "end_time": "2019-11-05T20:34:47.108988Z",
     "start_time": "2019-11-05T20:34:47.105495Z"
    }
   },
   "source": [
    "# Modelling\n",
    "Our model has 3 kinds of parameters that we are trying to estimate: the base price of each product type, the store multiplier for how much more expensive goods are in a particular supermarket chain and a location multiplier for the neighborhood a store is in. The assumptions for each of these are discussed below:"
   ]
  },
  {
   "cell_type": "markdown",
   "metadata": {},
   "source": [
    "## Priors\n",
    "\n",
    "- **Base Price**\n",
    "\n",
    "    Positive, real number. If we were trying to extend our model to differing currencies, we should choose a broad, heavy-tailed prior (i.e. cauchy). Since this model is explicitly constrained to prices in Euros (and all London prices were converted from Pounds to Euros for this purpose), we can constrain our prior a little bit.\n",
    "    I've chosen a cauchy prior centered around 0 and a scale parameter $\\gamma$ = 5. My prior assumption hence is, that most basic products in our list should not cost much more than a couple of Euros, but I am allowing for the possibility of outliers.\n",
    "    \n",
    "    $ Base\\ Price \\sim Cauchy(0, 5)$\n",
    "    \n",
    "    \n",
    "- **Store & Location Multiplier**\n",
    "\n",
    "    Positive, real numbers. For both multipliers, we want a distribution with continuous positive support, somewhat tightly centered around 1. Let's use a Lognormal distribution, since we can control it's spread with the $\\sigma$ parameter. Note that the scale of the Lognormal distribution in python is $e^\\sigma$.\n",
    "    \n",
    "    $Store\\ \\&\\ Location\\ Multiplier \\sim LogN(1, e^0)$"
   ]
  },
  {
   "cell_type": "markdown",
   "metadata": {
    "ExecuteTime": {
     "end_time": "2019-11-06T13:57:41.422943Z",
     "start_time": "2019-11-06T13:57:41.419920Z"
    }
   },
   "source": [
    "### Cauchy Prior"
   ]
  },
  {
   "cell_type": "code",
   "execution_count": 25,
   "metadata": {
    "ExecuteTime": {
     "end_time": "2019-11-06T15:15:47.473262Z",
     "start_time": "2019-11-06T15:15:46.696859Z"
    }
   },
   "outputs": [
    {
     "data": {
      "image/png": "[encoded data removed]",
      "text/plain": [
       "<Figure size 720x432 with 1 Axes>"
      ]
     },
     "metadata": {
      "needs_background": "light"
     },
     "output_type": "display_data"
    }
   ],
   "source": [
    "cauchy_prior = stats.cauchy(0, 5)\n",
    "\n",
    "plt.figure(figsize=(10,6))\n",
    "x = np.linspace(0, 100, 500)\n",
    "plt.plot(x, cauchy_prior.pdf(x), color='darkred')\n",
    "plt.title(\"Cauchy prior $x_0$ = 0, $\\gamma$ = 5; [0, +∞]\")\n",
    "plt.show()"
   ]
  },
  {
   "cell_type": "markdown",
   "metadata": {
    "ExecuteTime": {
     "end_time": "2019-11-06T14:06:06.677275Z",
     "start_time": "2019-11-06T14:06:06.672966Z"
    }
   },
   "source": [
    "### Lognormal Prior"
   ]
  },
  {
   "cell_type": "code",
   "execution_count": 26,
   "metadata": {
    "ExecuteTime": {
     "end_time": "2019-11-06T15:15:47.999779Z",
     "start_time": "2019-11-06T15:15:47.476859Z"
    }
   },
   "outputs": [
    {
     "data": {
      "image/png": "[encoded data removed]",
      "text/plain": [
       "<Figure size 720x432 with 1 Axes>"
      ]
     },
     "metadata": {
      "needs_background": "light"
     },
     "output_type": "display_data"
    }
   ],
   "source": [
    "lognorm_prior = stats.lognorm(1, scale=np.exp(0))\n",
    "\n",
    "plt.figure(figsize=(10,6))\n",
    "x = np.linspace(0, 10, 500)\n",
    "plt.plot(x, lognorm_prior.pdf(x), color='darkred')\n",
    "plt.title(\"Log-Normal prior $\\mu$ = 1, $\\sigma$ = 0; [0, +∞]\")\n",
    "plt.show()"
   ]
  },
  {
   "cell_type": "markdown",
   "metadata": {},
   "source": [
    "## Likelihood\n",
    "\n",
    "- **Likelihood**\n",
    "\n",
    "    The assumption we are making about our grocery prices is that prices are normally distributed around the base price * multiplier for store and location. As such, we will model our likelihood to be a normal distribution with an error term $\\sigma$, where $\\sigma$ is some positive real number.\n",
    "    \n",
    "    $ Likelihood \\sim N(x, \\sigma)$\n",
    "    \n",
    "    $x = base\\ price \\times \\ loc. \\ mult. \\times \\ store\\ mult.$\n",
    "    \n",
    "\n",
    "- **Sigma**\n",
    "\n",
    "    Since we do not know much about the likelihood spread $\\sigma$, let's model it as a hyperparameter with a gamma prior with $\\alpha , \\beta = 1$. We'll model a single error term for all 10 products, assuming it is independent of the product type.\n",
    "    \n",
    "    $ \\sigma \\sim Gamma(1, 1)$\n",
    " "
   ]
  },
  {
   "cell_type": "markdown",
   "metadata": {},
   "source": [
    "### Sigma Prior"
   ]
  },
  {
   "cell_type": "code",
   "execution_count": 27,
   "metadata": {
    "ExecuteTime": {
     "end_time": "2019-11-06T15:15:48.407614Z",
     "start_time": "2019-11-06T15:15:48.006121Z"
    }
   },
   "outputs": [
    {
     "data": {
      "image/png": "[encoded data removed]",
      "text/plain": [
       "<Figure size 720x432 with 1 Axes>"
      ]
     },
     "metadata": {
      "needs_background": "light"
     },
     "output_type": "display_data"
    }
   ],
   "source": [
    "sigma_prior = stats.gamma(1, scale=1)\n",
    "\n",
    "plt.figure(figsize=(10,6))\n",
    "x = np.linspace(0, 10, 500)\n",
    "plt.plot(x, sigma_prior.pdf(x), color='darkred')\n",
    "plt.title(r\"Sigma prior $\\alpha , \\beta = 1$; [0, +∞]\")\n",
    "plt.show()"
   ]
  },
  {
   "cell_type": "markdown",
   "metadata": {
    "ExecuteTime": {
     "end_time": "2019-11-06T12:50:19.106631Z",
     "start_time": "2019-11-06T12:50:19.095292Z"
    }
   },
   "source": [
    "## Defining the Data\n",
    "Below I define the data for the model. I will be defining the hyperparameters with known values directly in the Stan code block, since I do not intend on running the model with varying parameters."
   ]
  },
  {
   "cell_type": "code",
   "execution_count": 176,
   "metadata": {
    "ExecuteTime": {
     "end_time": "2019-11-06T18:51:47.513666Z",
     "start_time": "2019-11-06T18:51:47.502057Z"
    }
   },
   "outputs": [
    {
     "name": "stdout",
     "output_type": "stream",
     "text": [
      "{'n_data': 1826, 'n_neighborhoods': 10, 'n_stores': 7, 'n_products': 10, 'neighborhoods': array([ 1,  2,  3, ..., 10, 10, 10]), 'stores': array([1, 1, 1, ..., 7, 7, 7]), 'products': array([ 1,  1,  1, ..., 10, 10, 10]), 'prices': array([ 3.25,  1.39,  1.25, ...,  6.03,  9.81, 13.33])}\n"
     ]
    }
   ],
   "source": [
    "model_data = {\n",
    "    \"n_data\" : final_data.shape[0],\n",
    "    \"n_neighborhoods\" : len(final_data.Neighborhood.unique()),\n",
    "    \"n_stores\" : len(final_data.Store.unique()),\n",
    "    \"n_products\" : len(final_data.Product.unique()),\n",
    "    \n",
    "    \"neighborhoods\" : final_data.Neighborhood.values,\n",
    "    \"stores\" : final_data.Store.values,\n",
    "    \"products\" : final_data.Product.values,\n",
    "    \"prices\" : final_data.Price.values\n",
    "    }\n",
    "print(model_data)"
   ]
  },
  {
   "cell_type": "markdown",
   "metadata": {},
   "source": [
    "## Defining the Model\n",
    "Below I define the final model as described in the section above, with cauchy base price prior, lognormal priors for the multipliers and a gamma prior over sigma. "
   ]
  },
  {
   "cell_type": "code",
   "execution_count": 29,
   "metadata": {
    "ExecuteTime": {
     "end_time": "2019-11-06T15:15:48.441854Z",
     "start_time": "2019-11-06T15:15:48.430806Z"
    }
   },
   "outputs": [],
   "source": [
    "stan_code = \"\"\"\n",
    "\n",
    "data {\n",
    "    int<lower=0> n_data;                    // total number of observations\n",
    "    int<lower=0> n_neighborhoods;           // number of neighborhoods\n",
    "    int<lower=0> n_stores;                  // number of different stores\n",
    "    int<lower=0> n_products;                // number of product items\n",
    "\n",
    "    int<lower=1> neighborhoods[n_data];     // neighborhoods (numeric, 1 indexed)\n",
    "    int<lower=1> stores[n_data];            // stores (numeric)\n",
    "    int<lower=1> products[n_data];          // products (numeric)\n",
    "    real<lower=0> prices[n_data];           // prices\n",
    "}\n",
    "\n",
    "parameters {\n",
    "    real<lower=0> base_price[n_products];                 // base price\n",
    "    real<lower=0> location_multiplier[n_neighborhoods];   // location multiplier\n",
    "    real<lower=0> store_multiplier[n_stores];             // store multiplier\n",
    "    real<lower=0> sigma;                                  // sigma for likelihood\n",
    "}\n",
    "\n",
    "model {\n",
    "    \n",
    "    //Priors \n",
    "    base_price ~ cauchy(0, 5);\n",
    "    location_multiplier ~ lognormal(0, 1);      //parameterized as mu, sig here\n",
    "    store_multiplier ~ lognormal(0, 1);\n",
    "    sigma ~ gamma(1, 1);\n",
    "\n",
    "    // Main Model\n",
    "    for (i in 1:n_data) {\n",
    "    \n",
    "        prices[i] ~ normal(base_price[products[i]]*\\\n",
    "                           location_multiplier[neighborhoods[i]]*\\\n",
    "                           store_multiplier[stores[i]], sigma);\n",
    "        }\n",
    "}\n",
    "\n",
    "\"\"\""
   ]
  },
  {
   "cell_type": "markdown",
   "metadata": {
    "ExecuteTime": {
     "end_time": "2019-11-06T15:00:01.357143Z",
     "start_time": "2019-11-06T15:00:01.352293Z"
    }
   },
   "source": [
    "# Results"
   ]
  },
  {
   "cell_type": "code",
   "execution_count": 154,
   "metadata": {
    "ExecuteTime": {
     "end_time": "2019-11-06T18:37:28.468964Z",
     "start_time": "2019-11-06T18:36:26.413137Z"
    }
   },
   "outputs": [
    {
     "name": "stderr",
     "output_type": "stream",
     "text": [
      "INFO:pystan:COMPILING THE C++ CODE FOR MODEL anon_model_4dddedbb100495f6d45371314be5a173 NOW.\n"
     ]
    }
   ],
   "source": [
    "stan_model = stan.StanModel(model_code=stan_code)"
   ]
  },
  {
   "cell_type": "code",
   "execution_count": 177,
   "metadata": {
    "ExecuteTime": {
     "end_time": "2019-11-06T18:53:55.995084Z",
     "start_time": "2019-11-06T18:51:56.220645Z"
    }
   },
   "outputs": [
    {
     "name": "stdout",
     "output_type": "stream",
     "text": [
      "Inference for Stan model: anon_model_4dddedbb100495f6d45371314be5a173.\n",
      "4 chains, each with iter=2000; warmup=1000; thin=1; \n",
      "post-warmup draws per chain=1000, total post-warmup draws=4000.\n",
      "\n",
      "                          mean se_mean     sd   2.5%    25%    50%    75%  97.5%  n_eff   Rhat\n",
      "base_price[1]             4.77    0.05   1.59   2.35   3.65   4.51   5.68   8.54   1082   1.01\n",
      "base_price[2]             2.71    0.03   0.95   1.27   2.03   2.55   3.22    4.9   1132   1.01\n",
      "base_price[3]             7.77    0.08   2.57   3.79   5.93   7.32    9.3  13.75   1074   1.01\n",
      "base_price[4]             2.19    0.02   0.78   1.01   1.64   2.06   2.62   4.02   1203   1.01\n",
      "base_price[5]             2.09    0.02   0.77   0.94   1.55   1.95   2.51    3.9   1156   1.01\n",
      "base_price[6]             6.12    0.06   2.03   2.96   4.67   5.79   7.29  10.82   1069   1.01\n",
      "base_price[7]             1.93    0.02    0.7   0.87   1.43   1.82   2.33   3.56   1208   1.01\n",
      "base_price[8]            13.06    0.13    4.3   6.42   9.96  12.35   15.6  23.05   1059   1.01\n",
      "base_price[9]             0.52  8.3e-3   0.33   0.05   0.28   0.47    0.7   1.31   1582    1.0\n",
      "base_price[10]           16.31    0.16   5.36   8.09  12.47  15.42  19.49  28.96   1062   1.01\n",
      "location_multiplier[1]    0.81  7.5e-3   0.26   0.43   0.63   0.77   0.95   1.43   1206    1.0\n",
      "location_multiplier[2]    0.82  7.5e-3   0.26   0.43   0.63   0.78   0.96   1.44   1203    1.0\n",
      "location_multiplier[3]    0.85  7.8e-3   0.27   0.45   0.65   0.81   0.99   1.49   1220    1.0\n",
      "location_multiplier[4]    0.86  7.9e-3   0.28   0.46   0.66   0.82   1.01   1.52   1207    1.0\n",
      "location_multiplier[5]     0.9  8.4e-3   0.31   0.45   0.67   0.84   1.06   1.62   1364    1.0\n",
      "location_multiplier[6]    0.91  8.4e-3   0.29   0.49    0.7   0.87   1.07    1.6   1198    1.0\n",
      "location_multiplier[7]    0.98  9.1e-3   0.32   0.52   0.75   0.93   1.14   1.73   1194    1.0\n",
      "location_multiplier[8]    0.91  8.4e-3   0.29   0.48    0.7   0.86   1.07   1.58   1200    1.0\n",
      "location_multiplier[9]    0.89  8.3e-3   0.29   0.46   0.68   0.84   1.04   1.59   1247    1.0\n",
      "location_multiplier[10]   0.88    0.01   0.53   0.26   0.52   0.75   1.09   2.25   1651    1.0\n",
      "store_multiplier[1]       0.63  6.6e-3   0.24   0.29   0.46   0.59   0.76   1.21   1282    1.0\n",
      "store_multiplier[2]       0.94  9.9e-3   0.35   0.42   0.68   0.88   1.13   1.81   1269    1.0\n",
      "store_multiplier[3]        0.6  6.3e-3   0.23   0.27   0.44   0.56   0.72   1.15   1282    1.0\n",
      "store_multiplier[4]       0.82  8.5e-3   0.31   0.36   0.59   0.77   0.98   1.56   1285    1.0\n",
      "store_multiplier[5]       1.21    0.01   0.65    0.4   0.76   1.07   1.52   2.86   1881    1.0\n",
      "store_multiplier[6]       0.86    0.01   0.46   0.28   0.54   0.75   1.07   2.05   1929    1.0\n",
      "store_multiplier[7]        1.0    0.01   0.54   0.33   0.62   0.88   1.25   2.41   1890    1.0\n",
      "sigma                     2.42  6.9e-4   0.04   2.34   2.39   2.42   2.44    2.5   3285    1.0\n",
      "lp__                     -2524     0.1   3.83  -2532  -2526  -2524  -2521  -2518   1355    1.0\n",
      "\n",
      "Samples were drawn using NUTS at Wed Nov  6 18:53:55 2019.\n",
      "For each parameter, n_eff is a crude measure of effective sample size,\n",
      "and Rhat is the potential scale reduction factor on split chains (at \n",
      "convergence, Rhat=1).\n"
     ]
    }
   ],
   "source": [
    "results = stan_model.sampling(data=model_data)\n",
    "print(results)"
   ]
  },
  {
   "cell_type": "markdown",
   "metadata": {},
   "source": [
    "# Discussion\n",
    "The following section tries to answer the questions of base price, modifiers and rental price correlation based on the samples of our model."
   ]
  },
  {
   "cell_type": "code",
   "execution_count": 178,
   "metadata": {
    "ExecuteTime": {
     "end_time": "2019-11-06T18:54:04.782563Z",
     "start_time": "2019-11-06T18:54:04.776026Z"
    }
   },
   "outputs": [],
   "source": [
    "samples = results.extract()"
   ]
  },
  {
   "cell_type": "markdown",
   "metadata": {},
   "source": [
    "## Corrected Base Price\n",
    "What is the basic average price for each product?\n",
    "\n",
    "The below plot now accurately depicts our model's posterior distributions over base prices for each grocery item. We can see that both butter and chicken have high unit prices (as expected) with high uncertainty and potatoes, flour, milk and eggs have tight distributions around their posterior means. "
   ]
  },
  {
   "cell_type": "code",
   "execution_count": 180,
   "metadata": {
    "ExecuteTime": {
     "end_time": "2019-11-06T18:54:33.115376Z",
     "start_time": "2019-11-06T18:54:32.489392Z"
    }
   },
   "outputs": [
    {
     "data": {
      "image/png": "[encoded data removed]",
      "text/plain": [
       "<Figure size 1440x576 with 1 Axes>"
      ]
     },
     "metadata": {
      "needs_background": "light"
     },
     "output_type": "display_data"
    }
   ],
   "source": [
    "plt.figure(figsize=(20,8))\n",
    "\n",
    "for i in range(len(final_data.Product.unique())):\n",
    "    plt.plot(stats.uniform.rvs(loc=i+1-0.2, scale=0.4, size=4000),\n",
    "             samples['base_price'][:,i], ',', alpha=0.5)\n",
    "    \n",
    "plt.plot(range(1, len(final_data.Product.unique()) + 1),\n",
    "         samples['base_price'].mean(axis=0), marker='.',\n",
    "         linewidth=0,color=\"black\", alpha=0.8, markersize=12)\n",
    "\n",
    "plt.title('Samples of posterior distributions of base prices')\n",
    "plt.xticks(range(1, len(final_data.Product.unique()) + 1),\n",
    "           list(ID_dict['Product'].keys()))\n",
    "plt.ylim(0, 30)\n",
    "plt.show()"
   ]
  },
  {
   "cell_type": "markdown",
   "metadata": {},
   "source": [
    "## Base Price - Incorrect\n",
    "\n",
    "**NOTE**: The variables described in this section were corrected for above and hence cannot be rerun. I am leaving this section in to demonstrate model debugging.\n",
    "\n",
    "I am plotting the posterior base price distributions of each of the 10 items from the samples. Note that the means of each product's price per quantity are unexpectedly high for flour, rice and milk. As base price we would, for example, not expect a cost of ~7 Euros per kg of flour. This does, however, not mean that we would observe such high prices in a store, since their location and store modifiers could down-regulate this price significantly."
   ]
  },
  {
   "cell_type": "code",
   "execution_count": 157,
   "metadata": {
    "ExecuteTime": {
     "end_time": "2019-11-06T18:39:05.380198Z",
     "start_time": "2019-11-06T18:39:04.775109Z"
    }
   },
   "outputs": [
    {
     "data": {
      "image/png": "[encoded data removed]",
      "text/plain": [
       "<Figure size 1440x576 with 1 Axes>"
      ]
     },
     "metadata": {
      "needs_background": "light"
     },
     "output_type": "display_data"
    }
   ],
   "source": [
    "plt.figure(figsize=(20,8))\n",
    "\n",
    "for i in range(len(final_data.Product.unique())):\n",
    "    plt.plot(stats.uniform.rvs(loc=i+1-0.2, scale=0.4, size=4000),\n",
    "             samples['base_price'][:,i], ',', alpha=0.5)\n",
    "    \n",
    "plt.plot(range(1, len(final_data.Product.unique()) + 1),\n",
    "         samples['base_price'].mean(axis=0), marker='.',\n",
    "         linewidth=0,color=\"black\", alpha=0.8, markersize=12)\n",
    "\n",
    "plt.title('Samples of posterior distributions of base prices')\n",
    "plt.xticks(range(1, len(final_data.Product.unique()) + 1),\n",
    "           list(ID_dict['Product'].keys()))\n",
    "plt.ylim(0, 20)\n",
    "plt.show()"
   ]
  },
  {
   "cell_type": "markdown",
   "metadata": {},
   "source": [
    "### Investigating Incorrect Base Price\n",
    "Here I wanted to run some further sanity checks on my data to see why some of my products have rather strange posterior sample distributions. In particular, I want to look at the distribution of price per unit of all items and see if there might have been outliers that biased the results. i.e. perhaps someone accidentally typed 12 Euros for 1kg of rice instead of 1.2 Euros.\n"
   ]
  },
  {
   "cell_type": "code",
   "execution_count": 104,
   "metadata": {
    "ExecuteTime": {
     "end_time": "2019-11-06T18:02:18.414643Z",
     "start_time": "2019-11-06T18:02:17.862202Z"
    }
   },
   "outputs": [
    {
     "data": {
      "image/png": "[encoded data removed]",
      "text/plain": [
       "<Figure size 1440x576 with 1 Axes>"
      ]
     },
     "metadata": {
      "needs_background": "light"
     },
     "output_type": "display_data"
    }
   ],
   "source": [
    "prices = {}\n",
    "for product_id in final_data.Product.unique():\n",
    "    prices[product_id] = final_data.Price.loc[final_data['Product'] == product_id]\n",
    "\n",
    "    \n",
    "plt.figure(figsize=(20,8))\n",
    "for i in range(len(final_data.Product.unique())):\n",
    "    plt.plot(np.repeat(i+1, len(prices[i+1])), prices[i+1], 'o',\n",
    "             fillstyle='none', alpha=0.9)\n",
    "    \n",
    "plt.title('Distributions of prices per unit')\n",
    "plt.xticks(range(1, len(final_data.Product.unique()) + 1),\n",
    "           list(ID_dict['Product'].keys()))\n",
    "plt.ylabel(\"Euros\")\n",
    "plt.show()"
   ]
  },
  {
   "cell_type": "markdown",
   "metadata": {},
   "source": [
    "This suggests that our model is not merely driven by outliers, but that the prices per unit that students collected for flour, rice and milk were indeed widely distributed."
   ]
  },
  {
   "cell_type": "markdown",
   "metadata": {},
   "source": [
    "Just to make sure this is not an error with an operation I performed on the data, let's manually double-check the division I perform to normalize the prices. "
   ]
  },
  {
   "cell_type": "code",
   "execution_count": 136,
   "metadata": {
    "ExecuteTime": {
     "end_time": "2019-11-06T18:20:54.330715Z",
     "start_time": "2019-11-06T18:20:54.296598Z"
    }
   },
   "outputs": [
    {
     "name": "stdout",
     "output_type": "stream",
     "text": [
      "   Flour_1_quant  Flour_2_quant  Flour_3_quant  Rice_1_quant  Rice_2_quant  \\\n",
      "0            1.0            NaN            NaN           0.5           NaN   \n",
      "1            1.0            1.0            1.0           1.0           NaN   \n",
      "2            1.0            1.0            NaN           1.0           1.0   \n",
      "\n",
      "   Rice_3_quant  Milk_1_quant  Milk_2_quant  Milk_3_quant  \n",
      "0           NaN           1.0           1.0           NaN  \n",
      "1           NaN           1.0           1.0           1.0  \n",
      "2           1.0           1.0           1.0           1.0  \n",
      "   Flour_1_price  Flour_2_price  Flour_3_price  Rice_1_price  Rice_2_price  \\\n",
      "0           0.39            NaN            NaN          0.49           NaN   \n",
      "1           0.39           1.75           1.39          1.99           NaN   \n",
      "2           1.39           1.75            NaN          1.99          4.46   \n",
      "\n",
      "   Rice_3_price  Milk_1_price  Milk_2_price  Milk_3_price  \n",
      "0           NaN          0.71          0.99           NaN  \n",
      "1           NaN          0.99          0.99          0.71  \n",
      "2          1.89          0.99          0.71          0.63  \n",
      "   Tomatoes2  Potatoes2    Flour2     Rice2     Milk2   Butter2     Eggs2  \\\n",
      "0   2.564103        NaN       NaN  1.020408       NaN       NaN  1.408451   \n",
      "1   2.564103   0.571429  0.719424  0.502513       NaN       NaN  1.010101   \n",
      "2   0.719424   0.571429       NaN  0.502513  0.224215  0.529101  1.010101   \n",
      "\n",
      "   Chicken2   Apples3  \n",
      "0  1.010101       NaN  \n",
      "1  1.010101  1.408451  \n",
      "2  1.408451  1.587302  \n"
     ]
    }
   ],
   "source": [
    "print(quantities.iloc[:3,12:21])\n",
    "print(prices.iloc[:3,12:21])\n",
    "print(normalized_prices.iloc[:3,12:21])"
   ]
  },
  {
   "cell_type": "markdown",
   "metadata": {},
   "source": [
    "It seems that when normalizing the data, I got the column names (and hence the correct product-price relations) mixed up. I had titled them *[Apples1, Bananas1 ... Chicken1, Apples2, Bananas2, ...]*, when the actual order of the columns was *[Apples1, Apples2, Apples3, Bananas1, ...]*. I will correct this and rerun the model with the corrected data."
   ]
  },
  {
   "cell_type": "markdown",
   "metadata": {},
   "source": [
    "## Modifiers\n",
    "How much does each of the following factors modify the basic price of the product (up or down)?\n",
    "- Brand of the grocery store.\n",
    "- The geographical location of the grocery store."
   ]
  },
  {
   "cell_type": "markdown",
   "metadata": {},
   "source": [
    "### Store Modifier"
   ]
  },
  {
   "cell_type": "markdown",
   "metadata": {},
   "source": [
    "As expected, most Stores have modifier means below 1, meaning that they negatively affect the expected product price. Only the London Stores Sainsbury's & Waitrose have a modifier mean above 1, but with a rather large variance. (should this make me question my default grocery store...?) "
   ]
  },
  {
   "cell_type": "code",
   "execution_count": 181,
   "metadata": {
    "ExecuteTime": {
     "end_time": "2019-11-06T18:55:00.141715Z",
     "start_time": "2019-11-06T18:54:59.551760Z"
    }
   },
   "outputs": [
    {
     "data": {
      "image/png": "[encoded data removed]",
      "text/plain": [
       "<Figure size 1440x576 with 1 Axes>"
      ]
     },
     "metadata": {
      "needs_background": "light"
     },
     "output_type": "display_data"
    }
   ],
   "source": [
    "plt.figure(figsize=(20,8))\n",
    "\n",
    "for i in range(len(final_data.Store.unique())):\n",
    "    plt.plot(stats.uniform.rvs(loc=i+1-0.2, scale=0.4, size=4000),\n",
    "             samples['store_multiplier'][:,i], ',', alpha=0.5)\n",
    "    \n",
    "plt.plot(range(1, len(final_data.Store.unique()) + 1),\n",
    "         samples['store_multiplier'].mean(axis=0), marker='.',\n",
    "         linewidth=0,color=\"black\", alpha=0.8, markersize=12)\n",
    "\n",
    "plt.title('Samples of posterior distributions of store modifier')\n",
    "plt.xticks(range(1, len(final_data.Store.unique()) + 1),\n",
    "           [ID.capitalize() for ID in ID_dict['Store'].keys()])\n",
    "plt.grid(True, alpha=0.6, axis='y')\n",
    "plt.ylim(0, 3)\n",
    "plt.show()"
   ]
  },
  {
   "cell_type": "markdown",
   "metadata": {},
   "source": [
    "### Location Modifier\n",
    "Just as with the store modifiers, the location modifiers are below one on average for all neighborhoods. London has the largest posterior variance, which makes sense given that we have combined stores from all kinds of different neighborhoods into a single location modifier."
   ]
  },
  {
   "cell_type": "code",
   "execution_count": 185,
   "metadata": {
    "ExecuteTime": {
     "end_time": "2019-11-06T19:00:17.942397Z",
     "start_time": "2019-11-06T19:00:17.286074Z"
    },
    "scrolled": false
   },
   "outputs": [
    {
     "data": {
      "image/png": "[encoded data removed]",
      "text/plain": [
       "<Figure size 1440x576 with 1 Axes>"
      ]
     },
     "metadata": {
      "needs_background": "light"
     },
     "output_type": "display_data"
    }
   ],
   "source": [
    "plt.figure(figsize=(20,8))\n",
    "\n",
    "for i in range(len(final_data.Neighborhood.unique())):\n",
    "    plt.plot(stats.uniform.rvs(loc=i+1-0.2, scale=0.4, size=4000),\n",
    "             samples['location_multiplier'][:,i], ',', alpha=0.5)\n",
    "    \n",
    "plt.plot(range(1, len(final_data.Neighborhood.unique()) + 1),\n",
    "         samples['location_multiplier'].mean(axis=0), marker='.',\n",
    "         linewidth=0,color=\"black\", alpha=0.8, markersize=12)\n",
    "\n",
    "plt.title('Samples of posterior distributions of location modifier')\n",
    "plt.xticks(range(1, len(final_data.Neighborhood.unique()) + 1),\n",
    "           [ID.capitalize() for ID in ID_dict['Neighborhood'].keys()])\n",
    "plt.grid(True, alpha=0.6, axis='y')\n",
    "plt.ylim(0, 3)\n",
    "plt.show()"
   ]
  },
  {
   "cell_type": "markdown",
   "metadata": {
    "ExecuteTime": {
     "end_time": "2019-11-06T15:25:07.579491Z",
     "start_time": "2019-11-06T15:25:07.572150Z"
    }
   },
   "source": [
    "## Rental Price Correlation\n",
    "Does price variation by geographical location correlate with variation in rental prices in Berlin/London?\n",
    "\n",
    "Rental prices are listed below in order of neighborhood. Prices are based on the average price of a square meter. London rent from [here](https://www.numbeo.com/property-investment/in/London). Average flat size from [here](https://data.london.gov.uk/average-floor-area-by-borough/). Berlin rental prices from [here](https://www.berlinhyp.de/medias/sys_master/pdf/h92/h4a/8812114903070.pdf), page 13 - Mietpreisspanne Neuvermietungsangebote.\n"
   ]
  },
  {
   "cell_type": "code",
   "execution_count": 184,
   "metadata": {
    "ExecuteTime": {
     "end_time": "2019-11-06T18:56:29.498640Z",
     "start_time": "2019-11-06T18:56:28.659287Z"
    }
   },
   "outputs": [
    {
     "data": {
      "image/png": "[encoded data removed]",
      "text/plain": [
       "<Figure size 720x432 with 1 Axes>"
      ]
     },
     "metadata": {
      "needs_background": "light"
     },
     "output_type": "display_data"
    },
    {
     "data": {
      "image/png": "[encoded data removed]",
      "text/plain": [
       "<Figure size 720x432 with 1 Axes>"
      ]
     },
     "metadata": {
      "needs_background": "light"
     },
     "output_type": "display_data"
    }
   ],
   "source": [
    "rent = [11.91,       #kreuzberg (friedrichshain)\n",
    "        11.91,       #friedrichshain (kreuzberg)\n",
    "        9.1,         #lichtenberg\n",
    "        9.83,        #neukölln\n",
    "        9.7,         #tempelhof (schöneberg)\n",
    "        11.83,       #mitte\n",
    "        8.98,        #alt-treptow\n",
    "        9.7,         #schöneberg (tempelhof)\n",
    "        10.06,       #prenzlauer berg (actually Pankow)\n",
    "        1930/58]     #rent / avg. flat size\n",
    "\n",
    "multipliers = samples['location_multiplier'].mean(axis=0)\n",
    "\n",
    "plt.figure(figsize=(10,6))\n",
    "plt.scatter(rent, multipliers, color='darkred')\n",
    "slope, interc, r_value, _, _ = stats.linregress(rent, multipliers)\n",
    "x = np.linspace(min(rent)-1, max(rent)+1, 100)\n",
    "y = slope * x + interc\n",
    "plt.plot(x, y, color='k')\n",
    "plt.title(\"Correlation including London; $r^2$: %.2f\" %(r_value ** 2))\n",
    "plt.xlabel(\"Rental Price per $m^2$ in Euros\")\n",
    "plt.ylabel(\"Average Location Modifier\")\n",
    "plt.show()\n",
    "\n",
    "\n",
    "plt.figure(figsize=(10,6))\n",
    "plt.scatter(rent[:-1], multipliers[:-1], color='darkred')\n",
    "slope, interc, r_value, _, _ = stats.linregress(rent[:-1], multipliers[:-1])\n",
    "x = np.linspace(min(rent[:-1])-1, max(rent[:-1])+1, 100)\n",
    "y = slope * x + interc\n",
    "plt.plot(x, y, color='k')\n",
    "plt.title(\"Correlation excluding London; $r^2$: %.2f\" %(r_value ** 2))\n",
    "plt.xlabel(\"Rental Price per $m^2$ in Euros\")\n",
    "plt.ylabel(\"Average Location Modifier\")\n",
    "plt.show()"
   ]
  },
  {
   "cell_type": "markdown",
   "metadata": {},
   "source": [
    "Based on the second plot above, we can see that the outliner London biases our regression, since the average price per square meter is 3x that of any neighborhood in Berlin. Excluding this outlier from our analysis, however, there is still no noteworthy correlation between the rent prices and neighborhood modifiers ($r^2$ = 0.29)."
   ]
  }
 ],
 "metadata": {
  "kernelspec": {
   "display_name": "Python 3",
   "language": "python",
   "name": "python3"
  },
  "language_info": {
   "codemirror_mode": {
    "name": "ipython",
    "version": 3
   },
   "file_extension": ".py",
   "mimetype": "text/x-python",
   "name": "python",
   "nbconvert_exporter": "python",
   "pygments_lexer": "ipython3",
   "version": "3.7.2"
  },
  "toc": {
   "base_numbering": 1,
   "nav_menu": {},
   "number_sections": true,
   "sideBar": true,
   "skip_h1_title": false,
   "title_cell": "Table of Contents",
   "title_sidebar": "Contents",
   "toc_cell": true,
   "toc_position": {
    "height": "calc(100% - 180px)",
    "left": "10px",
    "top": "150px",
    "width": "165px"
   },
   "toc_section_display": true,
   "toc_window_display": false
  },
  "varInspector": {
   "cols": {
    "lenName": 16,
    "lenType": 16,
    "lenVar": 40
   },
   "kernels_config": {
    "python": {
     "delete_cmd_postfix": "",
     "delete_cmd_prefix": "del ",
     "library": "var_list.py",
     "varRefreshCmd": "print(var_dic_list())"
    },
    "r": {
     "delete_cmd_postfix": ") ",
     "delete_cmd_prefix": "rm(",
     "library": "var_list.r",
     "varRefreshCmd": "cat(var_dic_list()) "
    }
   },
   "types_to_exclude": [
    "module",
    "function",
    "builtin_function_or_method",
    "instance",
    "_Feature"
   ],
   "window_display": false
  }
 },
 "nbformat": 4,
 "nbformat_minor": 2
}
