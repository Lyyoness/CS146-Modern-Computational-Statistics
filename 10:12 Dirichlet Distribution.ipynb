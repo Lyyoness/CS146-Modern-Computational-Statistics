{
 "cells": [
  {
   "cell_type": "markdown",
   "metadata": {},
   "source": [
    "Model the following [social mobility](https://data.princeton.edu/wws509/datasets/#mobility) data set using a multinomial likelihood with a Dirichlet prior.\n",
    "The data set contains the results of a survey on male workers, and specifically what type of\n",
    "work (farm work, unskilled laborer, skilled laborer, professional) a son does, depending the type\n",
    "of work his father does.\n",
    "1. Download this CSV file containing the social mobility data.\n"
   ]
  },
  {
   "cell_type": "code",
   "execution_count": 2,
   "metadata": {},
   "outputs": [],
   "source": [
    "import numpy as np\n",
    "from scipy import stats\n",
    "import pandas as pd"
   ]
  },
  {
   "cell_type": "code",
   "execution_count": 13,
   "metadata": {},
   "outputs": [
    {
     "name": "stdout",
     "output_type": "stream",
     "text": [
      "          father           son  count\n",
      "0           farm          farm    703\n",
      "1           farm     unskilled   1478\n",
      "2           farm       skilled   1430\n",
      "3           farm  professional   1109\n",
      "4      unskilled          farm     58\n",
      "5      unskilled     unskilled   1756\n",
      "6      unskilled       skilled   1630\n",
      "7      unskilled  professional   1568\n",
      "8        skilled          farm     63\n",
      "9        skilled     unskilled   1453\n",
      "10       skilled       skilled   2068\n",
      "11       skilled  professional   2483\n",
      "12  professional          farm     61\n",
      "13  professional     unskilled    749\n",
      "14  professional       skilled   1183\n",
      "15  professional  professional   3315\n"
     ]
    }
   ],
   "source": [
    "data = pd.read_csv('socialmobility.csv')\n",
    "print(data)"
   ]
  },
  {
   "cell_type": "markdown",
   "metadata": {},
   "source": [
    "2. Choose a Dirichlet prior to have a uniform distribution over the probability vector\n",
    "parameter of the multinomial."
   ]
  },
  {
   "cell_type": "code",
   "execution_count": 7,
   "metadata": {},
   "outputs": [
    {
     "name": "stdout",
     "output_type": "stream",
     "text": [
      "(16,)\n",
      "[1 1 1 1 1 1 1 1 1 1 1 1 1 1 1 1]\n"
     ]
    }
   ],
   "source": [
    "alpha_prior = np.repeat(1, len(data['count']))\n",
    "print(np.shape(alpha_prior))\n",
    "print(alpha_prior)"
   ]
  },
  {
   "cell_type": "markdown",
   "metadata": {},
   "source": [
    "3. Refer to the conjugate prior table on Wikipedia for how to compute posterior\n",
    "hyperparameters of the Dirichlet posterior distribution."
   ]
  },
  {
   "cell_type": "markdown",
   "metadata": {},
   "source": [
    "4. Write Python code to compute the posterior Dirichlet distribution, given your prior\n",
    "hyperparameters and the data. Do not use Stan, but rather implement the update\n",
    "equations from prior to posterior manually."
   ]
  },
  {
   "cell_type": "code",
   "execution_count": 11,
   "metadata": {},
   "outputs": [
    {
     "name": "stdout",
     "output_type": "stream",
     "text": [
      "0      704\n",
      "1     1479\n",
      "2     1431\n",
      "3     1110\n",
      "4       59\n",
      "5     1757\n",
      "6     1631\n",
      "7     1569\n",
      "8       64\n",
      "9     1454\n",
      "10    2069\n",
      "11    2484\n",
      "12      62\n",
      "13     750\n",
      "14    1184\n",
      "15    3316\n",
      "Name: count, dtype: int64\n"
     ]
    }
   ],
   "source": [
    "alpha_post = alpha_prior + data['count']\n",
    "print(alpha_post)"
   ]
  },
  {
   "cell_type": "code",
   "execution_count": 12,
   "metadata": {},
   "outputs": [],
   "source": [
    "posterior = stats.dirichlet(alpha_post)"
   ]
  },
  {
   "cell_type": "markdown",
   "metadata": {},
   "source": [
    "5. Use your code to answer the following questions. \n",
    "\n",
    "    a. What is the posterior 95% probability interval over the probability that a son will become a skilled laborer if his father was an unskilled laborer?\n",
    "\n",
    "> This is $P(S_s | F_u) = \\frac{P(S_s \\& F_u)}{P(S_s)}$\n"
   ]
  },
  {
   "cell_type": "code",
   "execution_count": 26,
   "metadata": {},
   "outputs": [
    {
     "name": "stdout",
     "output_type": "stream",
     "text": [
      "(10000, 16)\n",
      "[0.24757262 0.26913855]\n"
     ]
    }
   ],
   "source": [
    "samples = posterior.rvs(size=10000)\n",
    "print(np.shape(samples))\n",
    "\n",
    "joint = samples[:,6]\n",
    "\n",
    "marginal_ind = [2, 6, 10, 14]\n",
    "marginal = np.sum(samples[:,marginal_ind], axis=1)\n",
    "                  \n",
    "conditional = joint / marginal\n",
    "\n",
    "print(np.percentile(conditional, [2.5, 97.5]))"
   ]
  },
  {
   "cell_type": "markdown",
   "metadata": {},
   "source": [
    "b. What is the posterior 95% probability interval over the probability that a father\n",
    "works on a farm if his son works as a professional?\n",
    "> This is  $P(F_f | S_p) = \\frac{P(F_f \\& S_p)}{P(F_f)}$"
   ]
  },
  {
   "cell_type": "code",
   "execution_count": 27,
   "metadata": {},
   "outputs": [
    {
     "name": "stdout",
     "output_type": "stream",
     "text": [
      "[0.22306881 0.24758314]\n"
     ]
    }
   ],
   "source": [
    "joint = samples[:,3]\n",
    "\n",
    "marginal_ind = [0, 1, 2, 3]\n",
    "marginal = np.sum(samples[:,marginal_ind], axis=1)\n",
    "                  \n",
    "conditional = joint / marginal\n",
    "\n",
    "print(np.percentile(conditional, [2.5, 97.5]))"
   ]
  }
 ],
 "metadata": {
  "kernelspec": {
   "display_name": "Python 3",
   "language": "python",
   "name": "python3"
  },
  "language_info": {
   "codemirror_mode": {
    "name": "ipython",
    "version": 3
   },
   "file_extension": ".py",
   "mimetype": "text/x-python",
   "name": "python",
   "nbconvert_exporter": "python",
   "pygments_lexer": "ipython3",
   "version": "3.7.2"
  }
 },
 "nbformat": 4,
 "nbformat_minor": 2
}
