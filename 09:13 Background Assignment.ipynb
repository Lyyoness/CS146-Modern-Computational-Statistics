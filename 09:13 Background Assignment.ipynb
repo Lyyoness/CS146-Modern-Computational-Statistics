{
 "cells": [
  {
   "cell_type": "markdown",
   "metadata": {},
   "source": [
    "## CS146 Diagnostics Assignment\n",
    "**Michelle Hackl**\n",
    "\n",
    "**Prof. Scheffler**"
   ]
  },
  {
   "cell_type": "markdown",
   "metadata": {},
   "source": [
    "### 1. Rules of Probability Theory\n",
    "Identify which of the following statements are correct and which are incorrect. Explain in one\n",
    "sentence why you identified each statement as correct or incorrect."
   ]
  },
  {
   "cell_type": "markdown",
   "metadata": {},
   "source": [
    "- $ P(A,B) = P(A|B)P(B)$\n",
    "> Yes, this can be rearranged to $P(A|B) = \\frac{P(A,B)}{P(B)}$, which is simply the rule for conditional probabilities."
   ]
  },
  {
   "cell_type": "markdown",
   "metadata": {},
   "source": [
    "- $P(A)=P(A|B)*P(B) + P(A|not B)P(not B)$\n",
    "> Yes, the first term above can be reexpressed as $P(A|B)$, the second as $P(A|not B)$. Adding those two complements together, we receive $P(A)$."
   ]
  },
  {
   "cell_type": "markdown",
   "metadata": {},
   "source": [
    "- $P(A) = P(A | B) P(B) + P(A | C) P(C) + P(A | D) + P(D)$\n",
    "> No, but could be, if the last term was $P(A|D)*P(D)$ and we assumed independence of $P(A)$ with all of the other probabilities."
   ]
  },
  {
   "cell_type": "markdown",
   "metadata": {},
   "source": [
    "- $P(A | B) = \\frac{P(B | A) P(A)}{P(B)}$\n",
    "> Yes, this is Bayes' Theorem."
   ]
  },
  {
   "cell_type": "markdown",
   "metadata": {},
   "source": [
    "- $P(A | B) P(B) = P(B | A) P(A)$\n",
    "> Yes, this is merely the multiplication rule rearranged."
   ]
  },
  {
   "cell_type": "markdown",
   "metadata": {},
   "source": [
    "### 2. Logarithms and Probability Distributions\n",
    "What is the log of the probability density function (pdf) of each of the following probability distributions?"
   ]
  },
  {
   "cell_type": "markdown",
   "metadata": {},
   "source": [
    "- Normal distribution"
   ]
  },
  {
   "cell_type": "markdown",
   "metadata": {},
   "source": [
    "PDF: $\\frac{1}{\\sqrt{2\\pi\\sigma^2}}e^-\\frac{(x-\\mu)^2}{2\\sigma^2}$\n",
    "\n",
    "$ln\\left(\\frac{1}{\\sqrt{2\\pi\\sigma^2}}e^-\\frac{(x-\\mu)^2}{2\\sigma^2}\\right)$ =\n",
    "\n",
    "$ln(1)-ln(\\sqrt{2\\pi\\sigma^2}) -\\frac{(x-\\mu)^2}{2\\sigma^2} =$  \n",
    "\n",
    "$-ln((2\\pi\\sigma^2)^\\frac{1}{2}) -\\frac{(x-\\mu)^2}{2\\sigma^2}$ =\n",
    "\n",
    "$- \\frac{1}{2}\\left(ln(2)+ln(\\pi)+2ln(\\sigma)\\right) -\\frac{(x-\\mu)^2}{2\\sigma^2}$ =\n",
    "\n",
    "$- \\frac{1}{2}ln(2) - \\frac{1}{2}ln(\\pi) -ln(\\sigma) -\\frac{(x-\\mu)^2}{2\\sigma^2}$"
   ]
  },
  {
   "cell_type": "markdown",
   "metadata": {},
   "source": [
    "- Gamma distribution"
   ]
  },
  {
   "cell_type": "markdown",
   "metadata": {},
   "source": [
    "PDF: $\\frac{1}{\\Gamma(k)\\Theta^k} x^{k-1} e^{-\\frac{x}{\\Theta}}$\n",
    "\n",
    "ln$\\left(\\frac{1}{\\Gamma(k)\\Theta^k} x^{k-1} e^{-\\frac{x}{\\Theta}}\\right)$ =\n",
    "\n",
    "$-ln(\\Gamma(k)\\Theta^k) + ln(x^{k-1}) + ln(e^{-\\frac{x}{\\Theta}})$ =\n",
    "\n",
    "$-ln(\\Gamma(k)) + kln(\\Theta) + (k-1) ln(x) -\\frac{x}{\\Theta}$"
   ]
  },
  {
   "cell_type": "markdown",
   "metadata": {},
   "source": [
    "- Beta distribution"
   ]
  },
  {
   "cell_type": "markdown",
   "metadata": {},
   "source": [
    "PDF: $\\frac{x^{\\alpha-1}(1-x)^{\\beta-1}}{B(\\alpha,\\beta)}$\n",
    "\n",
    "$ln\\left(\\frac{x^{\\alpha-1}(1-x)^{\\beta-1}}{B(\\alpha,\\beta)}\\right)$ =\n",
    "\n",
    "$ln(x^{\\alpha-1}(1-x)^{\\beta-1}) - lnB(\\alpha,\\beta)$ =\n",
    "\n",
    "$ln(x^{\\alpha-1}) + ln((1-x)^{\\beta-1}) - lnB(\\alpha,\\beta)$ =\n",
    "\n",
    "$(\\alpha-1)ln(x) + (\\beta-1)ln(1-x) - lnB(\\alpha,\\beta)$"
   ]
  },
  {
   "cell_type": "markdown",
   "metadata": {},
   "source": [
    "### 3. Normal Distributions\n",
    "If x is distributed according to the normal distribution with mean μ and standard deviation σ, and if $f(x) = x^3 +2x+1$."
   ]
  },
  {
   "cell_type": "markdown",
   "metadata": {},
   "source": [
    "- Calculate the expected value of $f(x)$."
   ]
  },
  {
   "cell_type": "markdown",
   "metadata": {},
   "source": [
    "If x is normally distributed like in our example, we can use moments to calculate the expected value of each of the terms:\n",
    "\n",
    "$E(x^3) = \\mu^3 + 3\\mu\\sigma^2$\n",
    "\n",
    "$E(2x) = 2E(x) = 2\\mu$\n",
    "\n",
    "$E(1) = 1$\n",
    "\n",
    "In full, this gives us:\n",
    "\n",
    "$E(f(x)) = \\mu^3 + 3\\mu\\sigma^2 + 2\\mu + 1$"
   ]
  },
  {
   "cell_type": "markdown",
   "metadata": {},
   "source": [
    "- Calculate the probability of $P(f(x)>1)$."
   ]
  },
  {
   "cell_type": "markdown",
   "metadata": {},
   "source": [
    "$P( x^3 + 2x + 1 > 1)$\n",
    "\n",
    "$P( x^3 + 2x > 0)$\n",
    "\n",
    "$P( x (x^2 + 2) > 0)$\n",
    "\n",
    "Given that $(x^2 + 2)$ will always be > 0, we only need to find the probability of P(x > 0), for which we can use the CDF of the normal distribution.\n",
    "\n",
    "$P( f(x) > 1) = 1 - P(x < 0) = 1 - CDF(0)$\n",
    "\n",
    "$P( f(x) > 1) = 1 - \\frac{1}{2}\\left[1 + erf\\left(\\frac{x-\\mu}{\\sigma\\sqrt{2}}\\right)\\right]$"
   ]
  },
  {
   "cell_type": "markdown",
   "metadata": {},
   "source": [
    "- Write a Python script to confirm your answer to question 2. Generate a lot of random numbers from a normal distribution with a particular mean and standard deviation. Calculate $f(x)$ for each of these random numbers. How many of them are greater than 1? Does that match the probability you calculated in question 2?"
   ]
  },
  {
   "cell_type": "code",
   "execution_count": 26,
   "metadata": {},
   "outputs": [],
   "source": [
    "import numpy as np\n",
    "import scipy.stats as sp\n",
    "import seaborn as sns"
   ]
  },
  {
   "cell_type": "code",
   "execution_count": 67,
   "metadata": {},
   "outputs": [],
   "source": [
    "def f(x):\n",
    "    return x**3+2*x+1\n",
    "\n",
    "def sampling(mean, stdev, num_samples):\n",
    "    samples = np.zeros(num_samples)\n",
    "    \n",
    "    for i in range(num_samples):\n",
    "        x = sp.norm.rvs(mean, stdev)\n",
    "        sample = f(x)\n",
    "        samples[i] = sample\n",
    "        \n",
    "    return samples\n",
    "\n",
    "mean = 5\n",
    "sdv = 2\n",
    "num_samples = 10000\n",
    "samples = sampling(mean, sdv, num_samples)"
   ]
  },
  {
   "cell_type": "code",
   "execution_count": 68,
   "metadata": {},
   "outputs": [
    {
     "data": {
      "image/png": "[encoded data removed]",
      "text/plain": [
       "<Figure size 432x288 with 1 Axes>"
      ]
     },
     "metadata": {
      "needs_background": "light"
     },
     "output_type": "display_data"
    }
   ],
   "source": [
    "sns.distplot(samples, bins=30).set_title(\"Sample distribution\")\n",
    "plt.show()"
   ]
  },
  {
   "cell_type": "code",
   "execution_count": 70,
   "metadata": {},
   "outputs": [
    {
     "name": "stdout",
     "output_type": "stream",
     "text": [
      "The percentage of samples greater than 1 is 99.5 percent.\n"
     ]
    }
   ],
   "source": [
    "greater_than_one = float(len([1 for s in samples if s > 1]))\n",
    "print(\"The percentage of samples greater than 1 is %.1f percent.\" %(greater_than_one/num_samples*100))"
   ]
  },
  {
   "cell_type": "code",
   "execution_count": 71,
   "metadata": {},
   "outputs": [
    {
     "name": "stdout",
     "output_type": "stream",
     "text": [
      "Solving analytically, the percentage of samples greater than 1 is 99.4 percent.\n"
     ]
    }
   ],
   "source": [
    "analytical = 1 - sp.norm.cdf(0, mean, sdv)\n",
    "print(\"Solving analytically, the percentage of samples greater than 1 is %.1f percent.\" %(analytical*100))"
   ]
  },
  {
   "cell_type": "markdown",
   "metadata": {},
   "source": [
    "### 4. Marginal and Conditional Probabilities\n",
    "In a country with high unemployment, 25.2% of the working population is considered “young”, and\n",
    "of the young working population, 37.7% are unemployed. The unemployment rate for those in the\n",
    "working population who are not young, is lower at 21.5%.\n",
    "\n",
    "Write down or calculate, as required, all the following marginal and conditional probabilities for the\n",
    "working population in this scenario."
   ]
  },
  {
   "cell_type": "markdown",
   "metadata": {},
   "source": [
    "- **P(young)** = **0.252**\n",
    "- **P(not young)** = 1 - P(young) = **0.748**\n",
    "- **P(unemployed)** = P(unemployed & young) + P(unemployed & not young) = 0.095 + 0.161 = **0.256**\n",
    "- **P(not unemployed)** = 1 - P(unemployed) = 1 - 0.256 = **0.744**\n",
    "- **P(unemployed | young)** = **0.377**\n",
    "- **P(young | unemployed)** = P(unemployed & young) P(unemployed) = 0.095 / 0.256 = **0.371**\n",
    "- **P(unemployed | not young)** = **0.215**\n",
    "- **P(not young | unemployed)** = P(unemployed & not young) / P(unemployed) = 0.161 / 0.256 = **0.629**\n",
    "\n",
    "Others:\n",
    "- P(unemployed & young) = P(young) * P(unemployed | young) = 0.252 * 0.377 = 0.095\n",
    "- P(unemployed & not young) = P(not young) * P(unemployed | not young) = 0.748 * 0.215 = 0.161"
   ]
  },
  {
   "cell_type": "markdown",
   "metadata": {},
   "source": [
    "### 5. Inference\n",
    "You take a guess and think there is a 33% chance that Olivia, 5 year old girl, will be able to read at\n",
    "Grade 1 level by the time she turns 6. (Kids usually start learning to read later, at school, so this\n",
    "isn’t a terrible guess.)\n",
    "\n",
    "An educational expert tells you that of children who are already able to read at Grade 1 level by the\n",
    "time they turn 6 years old, 65% had training (usually by their parents) in pronouncing simple words\n",
    "and writing some letters, and 35% did not. On the other hand, of children who are not already able\n",
    "to read at Grade 1 level by age 6, only 10% had the same training."
   ]
  },
  {
   "cell_type": "markdown",
   "metadata": {},
   "source": [
    "- **P(read)** = **0.33**\n",
    "- **P(not read)** = 1 - P(read) = 1 - 0.33 = **0.67**\n",
    "- **P(train | read)** = **0.65**\n",
    "- **P(not train | read)** = **0.35**\n",
    "- **P(train | not read)** = **0.1**\n",
    "- **P(not train | not read)** = 1 - P(train | not read) = 1 - 0.1 = **0.9**"
   ]
  },
  {
   "cell_type": "markdown",
   "metadata": {},
   "source": [
    "- After receiving this information, what is your revised estimate of the probability that Olivia will be able to read at that level if you learned that her parents are currently busy doing basic training for reading with her?\n",
    "\n"
   ]
  },
  {
   "cell_type": "markdown",
   "metadata": {},
   "source": [
    "- **P(train & read)** = P(read) * P(train | read) = 0.33 * 0.65 = **0.2145**\n",
    "- **P(train & not read)** = P(not read) * P(train | not read) = 0.67 * 0.1 = **0.067**\n",
    "- **P(train)** = P(train & read) + P(train & not read) = 0.2145 + 0.067 = **0.2815**"
   ]
  },
  {
   "cell_type": "markdown",
   "metadata": {},
   "source": [
    "Having calculated the base rate for children receiving reading training at 28.15%, we can now update our estimate using Bayes' Theorem:"
   ]
  },
  {
   "cell_type": "markdown",
   "metadata": {},
   "source": [
    "$P(read | train) = \\frac{P(train|read) * P(read)}{P(train)}$\n",
    "\n",
    "$P(read | train) = \\frac{0.65 * 0.33}{0.2815} = 0.762$"
   ]
  },
  {
   "cell_type": "markdown",
   "metadata": {},
   "source": [
    "- The above is a very simple statistical model. In a paragraph of 80–120 words outline the structure of the model. What are the variables? How are these variables related?"
   ]
  },
  {
   "cell_type": "markdown",
   "metadata": {},
   "source": [
    "Bayes Theorem has four core components. On the right-hand side, we have the likelihood multiplied by the prior, divided by the marginal or base rate. This will give us an updated \"guess\" called the prior on the left-hand side. \n",
    "\n",
    "The likelihood is an estimate of how probable the observed evidence (training) is, given that the hypothesis (Olivia can read) is true. The prior represents how probable our hypothesis (Olivia can read) was before we observed the new evidence (she has training). The marginal evaluates how probable the new evidence (Olivia has training) is under all possible hypotheses. Taken together, these give us the posterior estimate showing how probable our hypothesis is (Olivia can read), given that the evidence is observed (Olivia had training)."
   ]
  }
 ],
 "metadata": {
  "kernelspec": {
   "display_name": "Python 3",
   "language": "python",
   "name": "python3"
  },
  "language_info": {
   "codemirror_mode": {
    "name": "ipython",
    "version": 3
   },
   "file_extension": ".py",
   "mimetype": "text/x-python",
   "name": "python",
   "nbconvert_exporter": "python",
   "pygments_lexer": "ipython3",
   "version": "3.7.2"
  }
 },
 "nbformat": 4,
 "nbformat_minor": 2
}
