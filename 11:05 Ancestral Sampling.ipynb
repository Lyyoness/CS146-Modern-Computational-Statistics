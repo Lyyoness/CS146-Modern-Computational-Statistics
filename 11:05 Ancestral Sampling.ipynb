{
 "cells": [
  {
   "cell_type": "markdown",
   "metadata": {
    "toc": true
   },
   "source": [
    "<h1>Table of Contents<span class=\"tocSkip\"></span></h1>\n",
    "<div class=\"toc\"><ul class=\"toc-item\"><li><ul class=\"toc-item\"><li><span><a href=\"#Dependencies\" data-toc-modified-id=\"Dependencies-0.1\"><span class=\"toc-item-num\">0.1&nbsp;&nbsp;</span>Dependencies</a></span></li><li><span><a href=\"#Task-Description\" data-toc-modified-id=\"Task-Description-0.2\"><span class=\"toc-item-num\">0.2&nbsp;&nbsp;</span>Task Description</a></span></li></ul></li><li><span><a href=\"#Sampling\" data-toc-modified-id=\"Sampling-1\"><span class=\"toc-item-num\">1&nbsp;&nbsp;</span>Sampling</a></span><ul class=\"toc-item\"><li><span><a href=\"#Defining-Sampling-Functions\" data-toc-modified-id=\"Defining-Sampling-Functions-1.1\"><span class=\"toc-item-num\">1.1&nbsp;&nbsp;</span>Defining Sampling Functions</a></span><ul class=\"toc-item\"><li><span><a href=\"#Testing-the-functions\" data-toc-modified-id=\"Testing-the-functions-1.1.1\"><span class=\"toc-item-num\">1.1.1&nbsp;&nbsp;</span>Testing the functions</a></span></li></ul></li><li><span><a href=\"#Generating-Samples\" data-toc-modified-id=\"Generating-Samples-1.2\"><span class=\"toc-item-num\">1.2&nbsp;&nbsp;</span>Generating Samples</a></span></li><li><span><a href=\"#Visualizing-the-Results\" data-toc-modified-id=\"Visualizing-the-Results-1.3\"><span class=\"toc-item-num\">1.3&nbsp;&nbsp;</span>Visualizing the Results</a></span></li></ul></li></ul></div>"
   ]
  },
  {
   "cell_type": "markdown",
   "metadata": {},
   "source": [
    "## Dependencies"
   ]
  },
  {
   "cell_type": "code",
   "execution_count": 1,
   "metadata": {
    "ExecuteTime": {
     "end_time": "2019-11-05T14:37:00.008302Z",
     "start_time": "2019-11-05T14:36:56.102232Z"
    }
   },
   "outputs": [],
   "source": [
    "import scipy.stats as stats\n",
    "import matplotlib.pyplot as plt\n",
    "import numpy as np"
   ]
  },
  {
   "cell_type": "markdown",
   "metadata": {},
   "source": [
    "## Task Description\n",
    "Generate samples from a directed graphical model.\n",
    "\n",
    "- Write Python code to generate and visualize samples from the below model. Generate samples and plots for 3 different players and 4 games per player from this generative model.\n",
    "- Each player gets given an expected field goal rate from the uniform distribution. The expected field goal rate is always the same in all their games. In any particular game, the number of successful field goals is given by a binomial distribution.\n",
    "- Fixed hyperparameters: α = 1, β = 1.\n",
    "- Field goal success rate $p_i$ for player $i$:\n",
    "\n",
    "    $$p_i \\sim Beta(\\alpha,\\beta)$$\n",
    "\n",
    "    The number of field goals made $k_{ij}$ by player $i$ in game $j$ where $n_{ij}$ field goals were attempted\n",
    "\n",
    "    $$k_{ij} \\sim Binomial(n_{ij}, p_i)$$\n",
    "\n",
    "    [](https://www.notion.so/c1503ba37b6941e384bde0d8d51221df#0d6a9c57c3ec4fd0b36c4860f12ec632)"
   ]
  },
  {
   "cell_type": "markdown",
   "metadata": {
    "ExecuteTime": {
     "end_time": "2019-11-05T14:38:58.983465Z",
     "start_time": "2019-11-05T14:38:58.975868Z"
    }
   },
   "source": [
    "# Sampling"
   ]
  },
  {
   "cell_type": "markdown",
   "metadata": {},
   "source": [
    "## Defining Sampling Functions\n",
    "We'll start by defining the functions from which we sample our p and k parameters."
   ]
  },
  {
   "cell_type": "code",
   "execution_count": 2,
   "metadata": {
    "ExecuteTime": {
     "end_time": "2019-11-05T14:37:00.111074Z",
     "start_time": "2019-11-05T14:37:00.038564Z"
    }
   },
   "outputs": [],
   "source": [
    "def sample_beta(alpha = 1, beta = 1):\n",
    "    \"\"\"Alpha and Beta are defined and we only sample\n",
    "    once for a players the field goal rate p.\"\"\"\n",
    "    p = stats.beta.rvs(alpha, beta, size=1)\n",
    "    return float(p)\n",
    "    \n",
    "def sample_binomial(n, p):\n",
    "    \"\"\" N is the number of goals attempted and p the\n",
    "    field goal rate of the player (we sample several\n",
    "    k successes from a single rate p).\"\"\"\n",
    "    k = stats.binom.rvs(n, p, size=1)\n",
    "    return int(k)"
   ]
  },
  {
   "cell_type": "markdown",
   "metadata": {
    "ExecuteTime": {
     "end_time": "2019-11-05T13:48:20.048888Z",
     "start_time": "2019-11-05T13:48:20.044748Z"
    }
   },
   "source": [
    "### Testing the functions"
   ]
  },
  {
   "cell_type": "code",
   "execution_count": 3,
   "metadata": {
    "ExecuteTime": {
     "end_time": "2019-11-05T14:37:00.149125Z",
     "start_time": "2019-11-05T14:37:00.120826Z"
    }
   },
   "outputs": [
    {
     "name": "stdout",
     "output_type": "stream",
     "text": [
      "p:  0.3887403913977126\n",
      "k:  3\n"
     ]
    }
   ],
   "source": [
    "p = sample_beta()\n",
    "print(\"p: \", p)\n",
    "k = sample_binomial(10, p)\n",
    "print(\"k: \", k)"
   ]
  },
  {
   "cell_type": "markdown",
   "metadata": {
    "ExecuteTime": {
     "end_time": "2019-11-05T13:49:26.829238Z",
     "start_time": "2019-11-05T13:49:26.823001Z"
    }
   },
   "source": [
    "## Generating Samples\n",
    "We are generating 4 sample games each for 3 different players. Let's assume each game has 100 trials (n)."
   ]
  },
  {
   "cell_type": "code",
   "execution_count": 4,
   "metadata": {
    "ExecuteTime": {
     "end_time": "2019-11-05T14:37:00.302781Z",
     "start_time": "2019-11-05T14:37:00.178274Z"
    }
   },
   "outputs": [
    {
     "name": "stdout",
     "output_type": "stream",
     "text": [
      "{'Alex': {'p': 0.8897258550632793, 'k': [93, 92, 83, 89]}, 'Barbara': {'p': 0.47553251773903377, 'k': [50, 47, 48, 54]}, 'Christie': {'p': 0.909089092628255, 'k': [89, 89, 92, 89]}}\n"
     ]
    }
   ],
   "source": [
    "games = list(range(0,4))\n",
    "results = {\"Alex\": {}, \"Barbara\": {}, \"Christie\": {}}\n",
    "shots = 100\n",
    "\n",
    "for i, player in enumerate(results.keys()):\n",
    "    win_rate = sample_beta()\n",
    "    results[player][\"p\"] = win_rate\n",
    "    \n",
    "    results[player][\"k\"] = []\n",
    "    for j in games:\n",
    "        successes = sample_binomial(shots, win_rate)\n",
    "        results[player][\"k\"].append(successes)\n",
    "        \n",
    "print (results)"
   ]
  },
  {
   "cell_type": "markdown",
   "metadata": {},
   "source": [
    "## Visualizing the Results"
   ]
  },
  {
   "cell_type": "code",
   "execution_count": 5,
   "metadata": {
    "ExecuteTime": {
     "end_time": "2019-11-05T14:37:03.800860Z",
     "start_time": "2019-11-05T14:37:00.331630Z"
    }
   },
   "outputs": [
    {
     "data": {
      "image/png": "[encoded data removed]",
      "text/plain": [
       "<Figure size 576x360 with 1 Axes>"
      ]
     },
     "metadata": {
      "needs_background": "light"
     },
     "output_type": "display_data"
    },
    {
     "data": {
      "image/png": "[encoded data removed]",
      "text/plain": [
       "<Figure size 576x360 with 1 Axes>"
      ]
     },
     "metadata": {
      "needs_background": "light"
     },
     "output_type": "display_data"
    },
    {
     "data": {
      "image/png": "[encoded data removed]",
      "text/plain": [
       "<Figure size 576x360 with 1 Axes>"
      ]
     },
     "metadata": {
      "needs_background": "light"
     },
     "output_type": "display_data"
    }
   ],
   "source": [
    "x = np.linspace(0,100, 100)\n",
    "\n",
    "for player in results.keys():\n",
    "    plt.figure(figsize=(8,5))\n",
    "    y = np.random.uniform(1, 2, size = len(results[player]['k']))\n",
    "    \n",
    "    plt.scatter(results[player]['k'], y, color='darkred', marker='x',\n",
    "                label='Results of each game')\n",
    "    plt.axvline(results[player]['p']*shots, color='k', linestyle='--',\n",
    "                label=\"Expected Value\")\n",
    "    plt.title(player)\n",
    "    plt.legend()\n",
    "    plt.xlim(0,100)\n",
    "    plt.ylim(0,30)"
   ]
  }
 ],
 "metadata": {
  "kernelspec": {
   "display_name": "Python 3",
   "language": "python",
   "name": "python3"
  },
  "language_info": {
   "codemirror_mode": {
    "name": "ipython",
    "version": 3
   },
   "file_extension": ".py",
   "mimetype": "text/x-python",
   "name": "python",
   "nbconvert_exporter": "python",
   "pygments_lexer": "ipython3",
   "version": "3.7.2"
  },
  "toc": {
   "base_numbering": 1,
   "nav_menu": {},
   "number_sections": true,
   "sideBar": true,
   "skip_h1_title": false,
   "title_cell": "Table of Contents",
   "title_sidebar": "Contents",
   "toc_cell": true,
   "toc_position": {},
   "toc_section_display": true,
   "toc_window_display": false
  },
  "varInspector": {
   "cols": {
    "lenName": 16,
    "lenType": 16,
    "lenVar": 40
   },
   "kernels_config": {
    "python": {
     "delete_cmd_postfix": "",
     "delete_cmd_prefix": "del ",
     "library": "var_list.py",
     "varRefreshCmd": "print(var_dic_list())"
    },
    "r": {
     "delete_cmd_postfix": ") ",
     "delete_cmd_prefix": "rm(",
     "library": "var_list.r",
     "varRefreshCmd": "cat(var_dic_list()) "
    }
   },
   "types_to_exclude": [
    "module",
    "function",
    "builtin_function_or_method",
    "instance",
    "_Feature"
   ],
   "window_display": false
  }
 },
 "nbformat": 4,
 "nbformat_minor": 2
}
