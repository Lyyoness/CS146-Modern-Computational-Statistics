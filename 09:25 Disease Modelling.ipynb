{
 "cells": [
  {
   "cell_type": "markdown",
   "metadata": {},
   "source": [
    "# Making predictions and decisions with medical trial data\n",
    "\n",
    "We have data for 6 studies that have been done on the effect of *specific allergen immunotherapy* (SIT) on eczema and the following success rates have been observed. In each of the trials, the investigator rated whether each patient's condition improved or not.\n",
    "\n",
    "This data set is from the [Cochrane Database of Systematic Reviews](http://www.cochranelibrary.com/) article cited below, available for free [here](http://onlinelibrary.wiley.com/doi/10.1002/14651858.CD008774.pub2/full). The Cochrane Database is a great resource for high quality data on all sorts of medical trials.\n",
    "\n",
    "> Tam H., Calderon M.A., Manikam L., Nankervis H., García Núñez I., Williams H.C., Durham S., Boyle R.J. (2016). Specific allergen immunotherapy for the treatment of atopic eczema. *Cochrane Database of Systematic Reviews, Issue 2*. Art. No.: CD008774. DOI: 10.1002/14651858.CD008774.pub2.\n",
    "\n",
    "| Study          | Improved | Not improved |\n",
    "|:-------------- | --------:| ------------:|\n",
    "| Di Rienzo 2014 | 20       | 3            |\n",
    "| Galli 1994     | 10       | 6            |\n",
    "| Kaufman 1974   | 13       | 3            |\n",
    "| Qin 2014       | 35       | 10           |\n",
    "| Sanchez 2012   | 22       | 9            |\n",
    "| Silny 2006     | 7        | 3            |\n",
    "| **Totals**     | **107**  | **34**       |\n",
    "\n",
    "## Task 1: Modeling\n",
    "**Build a statistical model for this data set.** As your data, use the total number of patients improved (107) and not improved (34).\n",
    "\n",
    "**Steps in the modeling process:**\n",
    "1. Choose and motivate for an appropriate likelihood function for this type of data.\n",
    "    1. Make sure the support of your likelihood function matches the type of data we are working with.\n",
    "    2. Describe the unobserved parameter(s) of your model, and describe how it/they can be interpreted.\n",
    "2. Use a conjugate prior distribution for your likelihood function.\n",
    "    1. Select appropriate values for the prior hyperparameters and motivate your choice.\n",
    "    2. Visualize your prior distribution.\n",
    "3. Compute and visualize the posterior distribution over the unobserved parameter(s) of your model. Also describe what the posterior tells you about the parameter(s).\n",
    "\n",
    "Feel free to discuss this task with other students in the course, or attempt it on your own if you prefer. Discussing your modeling ideas with other students is a useful way to get feedback on your assumptions."
   ]
  },
  {
   "cell_type": "code",
   "execution_count": 2,
   "metadata": {},
   "outputs": [],
   "source": [
    "import numpy as np\n",
    "import matplotlib.pyplot as plt\n",
    "from scipy import stats"
   ]
  },
  {
   "cell_type": "code",
   "execution_count": null,
   "metadata": {},
   "outputs": [],
   "source": [
    "data = [107]"
   ]
  },
  {
   "cell_type": "markdown",
   "metadata": {},
   "source": [
    "1.A. Let's use a binomial likelihood, similar to the likelihood used in the readings, since we are dealing with a count of disrete events.\n",
    "\n",
    "1.B. Our unobserved parameter, theta, is the distribution of the actual probability of a patient's condition improving, which we try to predict based on our prior knowledge and the data we have already observed from our experiments."
   ]
  },
  {
   "cell_type": "code",
   "execution_count": 19,
   "metadata": {},
   "outputs": [
    {
     "name": "stdout",
     "output_type": "stream",
     "text": [
      "[0.07833256]\n"
     ]
    }
   ],
   "source": [
    "trials = 107+34\n",
    "p = 107/trials\n",
    "\n",
    "likelihood = stats.binom.pmf(data, n=trials, p=p)\n",
    "print(likelihood)"
   ]
  },
  {
   "cell_type": "markdown",
   "metadata": {},
   "source": [
    "2.A&B. I have a rather low prior belief in allergen immunotherapy, hence I will use a Beta prior with parameters (2,5) that is skewed toward the left. "
   ]
  },
  {
   "cell_type": "code",
   "execution_count": 20,
   "metadata": {},
   "outputs": [
    {
     "data": {
      "image/png": "[encoded data removed]",
      "text/plain": [
       "<Figure size 576x288 with 1 Axes>"
      ]
     },
     "metadata": {
      "needs_background": "light"
     },
     "output_type": "display_data"
    }
   ],
   "source": [
    "alpha = 2\n",
    "beta = 5\n",
    "x = np.linspace(0, 1, 100) \n",
    "\n",
    "prior = stats.beta(a=alpha, b=beta)\n",
    "\n",
    "\n",
    "plt.figure(figsize=(8, 4))\n",
    "prior_pdf = prior.pdf(x)\n",
    "\n",
    "plt.plot(x, prior_pdf, label='Prior distribution')\n",
    "\n",
    "plt.legend() \n",
    "plt.show()"
   ]
  },
  {
   "cell_type": "markdown",
   "metadata": {},
   "source": [
    "3.Since we have chosen a conjugate prior that matches our likelihood function, we can simply compute the posterior arithmetically. \n",
    "\n",
    "$\\alpha_{post} = \\alpha_{prior} + x$\n",
    "\n",
    "$\\beta_{post} = \\beta_{prior} + N - x$\n",
    "\n",
    "Compute and visualize the posterior distribution over the unobserved parameter(s) of your model. Also describe what the posterior tells you about the parameter(s)."
   ]
  },
  {
   "cell_type": "code",
   "execution_count": 30,
   "metadata": {},
   "outputs": [
    {
     "name": "stdout",
     "output_type": "stream",
     "text": [
      "Posterior's alpha and beta are:  109 39\n"
     ]
    },
    {
     "data": {
      "image/png": "[encoded data removed]",
      "text/plain": [
       "<Figure size 576x288 with 1 Axes>"
      ]
     },
     "metadata": {
      "needs_background": "light"
     },
     "output_type": "display_data"
    }
   ],
   "source": [
    "alpha_post = alpha + data[0]\n",
    "beta_post = beta + trials - data[0]\n",
    "\n",
    "print(\"Posterior's alpha and beta are: \", alpha_post, beta_post)\n",
    "\n",
    "posterior = stats.beta(a=alpha_post, b=beta_post)\n",
    "\n",
    "plt.figure(figsize=(8, 4))\n",
    "posterior_pdf = posterior.pdf(x)\n",
    "\n",
    "plt.plot(x, posterior_pdf, label='Posterior distribution')\n",
    "\n",
    "plt.legend() \n",
    "plt.show()"
   ]
  },
  {
   "cell_type": "markdown",
   "metadata": {},
   "source": [
    "The posterior shows that we are much more certain about the \"true\" probability of allergen immunotherapy working for an individual, lying somewhere in the 60%-85% range. We can also interpret it to mean that for a given sample of the population we observe anew, we would expect 60%-85% of individuals to respond well to the treatment."
   ]
  },
  {
   "cell_type": "markdown",
   "metadata": {},
   "source": [
    "## Task 2: Questions, predictions, and decisions\n",
    "1. Posterior predictive distribution: Use your model to predict how many patients would improve if we treated 100 new eczema patients using SIT. Express your answer as a probability distribution over the number of patients improved.\n",
    "2. Use your posterior to answer these questions:\n",
    "    1. What is the probability that at least two thirds of eczema patients get better with SIT?\n",
    "    2. What is the probability that at least 75% of eczema patients get better with SIT?\n",
    "3. Use your model to decide whether the treatment works or not. Motivate your answer."
   ]
  },
  {
   "cell_type": "code",
   "execution_count": 48,
   "metadata": {},
   "outputs": [
    {
     "name": "stdout",
     "output_type": "stream",
     "text": [
      "We would expect 73 out of 100 patients to react well to the treatment.\n"
     ]
    }
   ],
   "source": [
    "EV = alpha_post / (alpha_post+beta_post)\n",
    "print(\"We would expect\", str(int(EV*100)), \"out of 100 patients to react well to the treatment.\")"
   ]
  },
  {
   "cell_type": "markdown",
   "metadata": {},
   "source": [
    "As a cdf, this would look like:"
   ]
  },
  {
   "cell_type": "code",
   "execution_count": 68,
   "metadata": {},
   "outputs": [
    {
     "data": {
      "image/png": "[encoded data removed]",
      "text/plain": [
       "<Figure size 432x288 with 1 Axes>"
      ]
     },
     "metadata": {
      "needs_background": "light"
     },
     "output_type": "display_data"
    },
    {
     "name": "stdout",
     "output_type": "stream",
     "text": [
      "p of 2/3rds react well: 0.721\n",
      "p of 3/4ths react well: 0.713\n"
     ]
    }
   ],
   "source": [
    "x = np.linspace(0,1,100)\n",
    "\n",
    "cdfs = posterior.cdf(x)\n",
    "\n",
    "plt.plot(x, cdfs, color='darkred')\n",
    "# plt.\n",
    "plt.hlines(0.33, 0, 1, label='p of 2/3rds react well', color='k', linestyle=':')\n",
    "plt.hlines(0.25, 0, 1, label='p of 3/4ths react well', color='k', linestyle='--')\n",
    "plt.legend()\n",
    "plt.show()\n",
    "\n",
    "percentile1 = posterior.ppf(0.33)\n",
    "percentile2 = posterior.ppf(0.25)\n",
    "\n",
    "\n",
    "print(f\"p of 2/3rds react well: {percentile1:.3f}\")\n",
    "print(f\"p of 3/4ths react well: {percentile2:.3f}\")"
   ]
  }
 ],
 "metadata": {
  "kernelspec": {
   "display_name": "Python 3",
   "language": "python",
   "name": "python3"
  },
  "language_info": {
   "codemirror_mode": {
    "name": "ipython",
    "version": 3
   },
   "file_extension": ".py",
   "mimetype": "text/x-python",
   "name": "python",
   "nbconvert_exporter": "python",
   "pygments_lexer": "ipython3",
   "version": "3.7.2"
  }
 },
 "nbformat": 4,
 "nbformat_minor": 2
}
